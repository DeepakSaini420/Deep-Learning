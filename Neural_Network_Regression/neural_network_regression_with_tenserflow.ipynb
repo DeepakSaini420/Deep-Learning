{
  "nbformat": 4,
  "nbformat_minor": 0,
  "metadata": {
    "colab": {
      "name": "neural_network_regression_with_tenserflow.ipynb",
      "provenance": [],
      "collapsed_sections": []
    },
    "kernelspec": {
      "name": "python3",
      "display_name": "Python 3"
    },
    "language_info": {
      "name": "python"
    },
    "accelerator": "GPU"
  },
  "cells": [
    {
      "cell_type": "markdown",
      "source": [
        "# Introduction to Regression with Nural Network in Tensorflow\n",
        "\n",
        "There are many defination for regression problem:\n",
        "predecting a numerical variable based on some other combination of variables, even shorter... predecting number"
      ],
      "metadata": {
        "id": "vtCK9lVrEwLI"
      }
    },
    {
      "cell_type": "code",
      "source": [
        "# Import tensorflow\n",
        "import tensorflow as tf\n",
        "print(tf.__version__)"
      ],
      "metadata": {
        "colab": {
          "base_uri": "https://localhost:8080/"
        },
        "id": "TuV-CtA1E8J0",
        "outputId": "b3b6d5ee-2fb1-4239-f892-673a31335171"
      },
      "execution_count": null,
      "outputs": [
        {
          "output_type": "stream",
          "name": "stdout",
          "text": [
            "2.8.2\n"
          ]
        }
      ]
    },
    {
      "cell_type": "markdown",
      "source": [
        "## Creating some data to view and fit"
      ],
      "metadata": {
        "id": "6bnnBpBJFr3A"
      }
    },
    {
      "cell_type": "code",
      "source": [
        "import numpy as np\n",
        "import matplotlib.pyplot as plt\n",
        "\n",
        "X = np.array([-7.0,-4.0,-1.0,2.0,5.0,8.0,11.0,14.0])\n",
        "\n",
        "y = np.array([3.0,6.0,9.0,12.0,15.0,18.0,21.0,24.0])\n",
        "\n",
        "plt.scatter(X,y)"
      ],
      "metadata": {
        "colab": {
          "base_uri": "https://localhost:8080/",
          "height": 286
        },
        "id": "BEp35LB_FzYV",
        "outputId": "bd5fa911-a477-4e2b-8d38-9ea353d845d9"
      },
      "execution_count": null,
      "outputs": [
        {
          "output_type": "execute_result",
          "data": {
            "text/plain": [
              "<matplotlib.collections.PathCollection at 0x7f04c4534290>"
            ]
          },
          "metadata": {},
          "execution_count": 3
        },
        {
          "output_type": "display_data",
          "data": {
            "text/plain": [
              "<Figure size 432x288 with 1 Axes>"
            ],
            "image/png": "[encoded data removed]"
          },
          "metadata": {
            "needs_background": "light"
          }
        }
      ]
    },
    {
      "cell_type": "code",
      "source": [
        "y == X +10"
      ],
      "metadata": {
        "colab": {
          "base_uri": "https://localhost:8080/"
        },
        "id": "jj4Ksm_HGY81",
        "outputId": "69500418-09f6-4e9d-b953-414d7c8397a5"
      },
      "execution_count": null,
      "outputs": [
        {
          "output_type": "execute_result",
          "data": {
            "text/plain": [
              "array([ True,  True,  True,  True,  True,  True,  True,  True])"
            ]
          },
          "metadata": {},
          "execution_count": 4
        }
      ]
    },
    {
      "cell_type": "markdown",
      "source": [
        "# Input and output Shapes"
      ],
      "metadata": {
        "id": "3X9W1igIGiBQ"
      }
    },
    {
      "cell_type": "code",
      "source": [
        "# Create a demo tensor for our housing price predection problem\n",
        "house_info = tf.constant(['bedroom','bathroom','garrage'])\n",
        "house_price = tf.constant([939700])\n",
        "\n",
        "house_info,house_price"
      ],
      "metadata": {
        "colab": {
          "base_uri": "https://localhost:8080/"
        },
        "id": "ehbx32vVHYfl",
        "outputId": "c9d015ba-4d6f-4b91-858d-938d272becc8"
      },
      "execution_count": null,
      "outputs": [
        {
          "output_type": "execute_result",
          "data": {
            "text/plain": [
              "(<tf.Tensor: shape=(3,), dtype=string, numpy=array([b'bedroom', b'bathroom', b'garrage'], dtype=object)>,\n",
              " <tf.Tensor: shape=(1,), dtype=int32, numpy=array([939700], dtype=int32)>)"
            ]
          },
          "metadata": {},
          "execution_count": 5
        }
      ]
    },
    {
      "cell_type": "code",
      "source": [
        "input_shape = X.shape\n",
        "output_shape = y.shape\n",
        "\n",
        "input_shape,output_shape"
      ],
      "metadata": {
        "colab": {
          "base_uri": "https://localhost:8080/"
        },
        "id": "58nr6bjzHu0c",
        "outputId": "b9682dd5-7b0b-48ab-b1c2-ff6596bfccd0"
      },
      "execution_count": null,
      "outputs": [
        {
          "output_type": "execute_result",
          "data": {
            "text/plain": [
              "((8,), (8,))"
            ]
          },
          "metadata": {},
          "execution_count": 6
        }
      ]
    },
    {
      "cell_type": "code",
      "source": [
        "# Turn our Numpy Array into tensors\n",
        "X = tf.constant(X)\n",
        "y = tf.constant(y)\n",
        "\n",
        "X,y"
      ],
      "metadata": {
        "colab": {
          "base_uri": "https://localhost:8080/"
        },
        "id": "sL9cUJDLH903",
        "outputId": "c3eae222-bd01-4b92-b039-e35a0939a5b9"
      },
      "execution_count": null,
      "outputs": [
        {
          "output_type": "execute_result",
          "data": {
            "text/plain": [
              "(<tf.Tensor: shape=(8,), dtype=float64, numpy=array([-7., -4., -1.,  2.,  5.,  8., 11., 14.])>,\n",
              " <tf.Tensor: shape=(8,), dtype=float64, numpy=array([ 3.,  6.,  9., 12., 15., 18., 21., 24.])>)"
            ]
          },
          "metadata": {},
          "execution_count": 7
        }
      ]
    },
    {
      "cell_type": "code",
      "source": [
        "input_shape=X[0].shape\n",
        "output_shape=y[0].shape\n",
        "input_shape,output_shape"
      ],
      "metadata": {
        "colab": {
          "base_uri": "https://localhost:8080/"
        },
        "id": "csF1_9K2Lwkw",
        "outputId": "8325f319-8c1a-495a-b56d-1ab7d7ff96da"
      },
      "execution_count": null,
      "outputs": [
        {
          "output_type": "execute_result",
          "data": {
            "text/plain": [
              "(TensorShape([]), TensorShape([]))"
            ]
          },
          "metadata": {},
          "execution_count": 8
        }
      ]
    },
    {
      "cell_type": "markdown",
      "source": [
        "## Steps in modelling with Tensorflow\n",
        "1. Creating model - define the input and output layers, as well as hidden layers in deep learning\n",
        "2. Compiling a model - define the loss function (function which tell us how wrong our model is) and it optemizer(tells our model how to improve our model) and evaluation matrics (What we can interpret the preformance of our model)\n",
        "3. Fitting a model - letting model try to find patterns between X & y (features and labels)"
      ],
      "metadata": {
        "id": "XjSIO9eqMHf1"
      }
    },
    {
      "cell_type": "code",
      "source": [
        "# Set random seed\n",
        "tf.random.set_seed(42)\n",
        "\n",
        "# 1. Create a model with squential API\n",
        "model = tf.keras.Sequential([\n",
        "  tf.keras.layers.Dense(1)\n",
        "])\n",
        "\n",
        "# 2. Compile the model\n",
        "model.compile(loss=tf.keras.losses.mae, # mae is short for mean absolute error\n",
        "              optimizer=tf.keras.optimizers.SGD(),\n",
        "              metrics=[\"mae\"])\n",
        "\n",
        "# 3. Fitting the model\n",
        "model.fit(tf.expand_dims(X, axis=-1),y,epochs=5)\n"
      ],
      "metadata": {
        "colab": {
          "base_uri": "https://localhost:8080/"
        },
        "id": "iewDD68VKneB",
        "outputId": "c6f57756-b0f4-4cae-f17a-edc7ccd5bb37"
      },
      "execution_count": null,
      "outputs": [
        {
          "output_type": "stream",
          "name": "stdout",
          "text": [
            "Epoch 1/5\n",
            "1/1 [==============================] - 3s 3s/step - loss: 11.5048 - mae: 11.5048\n",
            "Epoch 2/5\n",
            "1/1 [==============================] - 0s 9ms/step - loss: 11.3723 - mae: 11.3723\n",
            "Epoch 3/5\n",
            "1/1 [==============================] - 0s 7ms/step - loss: 11.2398 - mae: 11.2398\n",
            "Epoch 4/5\n",
            "1/1 [==============================] - 0s 8ms/step - loss: 11.1073 - mae: 11.1073\n",
            "Epoch 5/5\n",
            "1/1 [==============================] - 0s 8ms/step - loss: 10.9748 - mae: 10.9748\n"
          ]
        },
        {
          "output_type": "execute_result",
          "data": {
            "text/plain": [
              "<keras.callbacks.History at 0x7f0446739490>"
            ]
          },
          "metadata": {},
          "execution_count": 9
        }
      ]
    },
    {
      "cell_type": "code",
      "source": [
        "X , y\n"
      ],
      "metadata": {
        "id": "l1fQLde6NLPP",
        "colab": {
          "base_uri": "https://localhost:8080/"
        },
        "outputId": "a681ccf6-6f3b-4971-aa1a-e5884185e016"
      },
      "execution_count": null,
      "outputs": [
        {
          "output_type": "execute_result",
          "data": {
            "text/plain": [
              "(<tf.Tensor: shape=(8,), dtype=float64, numpy=array([-7., -4., -1.,  2.,  5.,  8., 11., 14.])>,\n",
              " <tf.Tensor: shape=(8,), dtype=float64, numpy=array([ 3.,  6.,  9., 12., 15., 18., 21., 24.])>)"
            ]
          },
          "metadata": {},
          "execution_count": 10
        }
      ]
    },
    {
      "cell_type": "code",
      "source": [
        "y_preds = model.predict(X)"
      ],
      "metadata": {
        "id": "B7jOTzLVMt6-"
      },
      "execution_count": null,
      "outputs": []
    },
    {
      "cell_type": "code",
      "source": [
        "y_preds + 11"
      ],
      "metadata": {
        "colab": {
          "base_uri": "https://localhost:8080/"
        },
        "id": "a9G9pPPYMyY-",
        "outputId": "6c786549-ef18-4775-9fac-38f1d6287b28"
      },
      "execution_count": null,
      "outputs": [
        {
          "output_type": "execute_result",
          "data": {
            "text/plain": [
              "array([[ 5.83458 ],\n",
              "       [ 8.069759],\n",
              "       [10.30494 ],\n",
              "       [12.54012 ],\n",
              "       [14.7753  ],\n",
              "       [17.01048 ],\n",
              "       [19.24566 ],\n",
              "       [21.48084 ]], dtype=float32)"
            ]
          },
          "metadata": {},
          "execution_count": 12
        }
      ]
    },
    {
      "cell_type": "code",
      "source": [
        "model.evaluate(X,y)"
      ],
      "metadata": {
        "colab": {
          "base_uri": "https://localhost:8080/"
        },
        "id": "aePKKS39jrVw",
        "outputId": "8207fb95-b5dc-4747-bc7c-3b1b57f16531"
      },
      "execution_count": null,
      "outputs": [
        {
          "output_type": "stream",
          "name": "stdout",
          "text": [
            "1/1 [==============================] - 0s 101ms/step - loss: 10.8423 - mae: 10.8423\n"
          ]
        },
        {
          "output_type": "execute_result",
          "data": {
            "text/plain": [
              "[10.842289924621582, 10.842289924621582]"
            ]
          },
          "metadata": {},
          "execution_count": 13
        }
      ]
    },
    {
      "cell_type": "markdown",
      "source": [
        "## Improving Our Model\n",
        "\n",
        "We can imporve our model by altering the steps we take while creating our model\n",
        "1. **Creating a model** :- Increase the number of hidden layers,within each layers, change the activation function\n",
        "2. **Compiling a model** :- Here we might change the optimizer function or perhaps the **learning rate** of the optimization function\n",
        "3. **Fitting Model** :- Here w might fit our model for more **epochs** or on more data  "
      ],
      "metadata": {
        "id": "5w6hbP46kBuh"
      }
    },
    {
      "cell_type": "code",
      "source": [
        "# Let's rebuild our model\n",
        "\n",
        "model = tf.keras.Sequential([\n",
        "  tf.keras.layers.Dense(1)\n",
        "])\n",
        "\n",
        "model.compile(loss=tf.keras.losses.mae,\n",
        "              optimizer=tf.keras.optimizers.Adam(lr=0.0001),\n",
        "              metrics=[\"mae\"])\n",
        "\n",
        "model.fit(tf.expand_dims(X, axis=-1),y,epochs=100)"
      ],
      "metadata": {
        "colab": {
          "base_uri": "https://localhost:8080/"
        },
        "id": "S-kxlw_OkTxs",
        "outputId": "fc70d689-477d-46d6-fd66-9ae612c60a3e"
      },
      "execution_count": null,
      "outputs": [
        {
          "output_type": "stream",
          "name": "stdout",
          "text": [
            "Epoch 1/100\n"
          ]
        },
        {
          "output_type": "stream",
          "name": "stderr",
          "text": [
            "/usr/local/lib/python3.7/dist-packages/keras/optimizer_v2/adam.py:105: UserWarning: The `lr` argument is deprecated, use `learning_rate` instead.\n",
            "  super(Adam, self).__init__(name, **kwargs)\n"
          ]
        },
        {
          "output_type": "stream",
          "name": "stdout",
          "text": [
            "1/1 [==============================] - 0s 436ms/step - loss: 11.2219 - mae: 11.2219\n",
            "Epoch 2/100\n",
            "1/1 [==============================] - 0s 9ms/step - loss: 11.2215 - mae: 11.2215\n",
            "Epoch 3/100\n",
            "1/1 [==============================] - 0s 10ms/step - loss: 11.2210 - mae: 11.2210\n",
            "Epoch 4/100\n",
            "1/1 [==============================] - 0s 9ms/step - loss: 11.2206 - mae: 11.2206\n",
            "Epoch 5/100\n",
            "1/1 [==============================] - 0s 10ms/step - loss: 11.2201 - mae: 11.2201\n",
            "Epoch 6/100\n",
            "1/1 [==============================] - 0s 7ms/step - loss: 11.2197 - mae: 11.2197\n",
            "Epoch 7/100\n",
            "1/1 [==============================] - 0s 9ms/step - loss: 11.2192 - mae: 11.2192\n",
            "Epoch 8/100\n",
            "1/1 [==============================] - 0s 7ms/step - loss: 11.2188 - mae: 11.2188\n",
            "Epoch 9/100\n",
            "1/1 [==============================] - 0s 8ms/step - loss: 11.2183 - mae: 11.2183\n",
            "Epoch 10/100\n",
            "1/1 [==============================] - 0s 10ms/step - loss: 11.2179 - mae: 11.2179\n",
            "Epoch 11/100\n",
            "1/1 [==============================] - 0s 9ms/step - loss: 11.2174 - mae: 11.2174\n",
            "Epoch 12/100\n",
            "1/1 [==============================] - 0s 9ms/step - loss: 11.2170 - mae: 11.2170\n",
            "Epoch 13/100\n",
            "1/1 [==============================] - 0s 9ms/step - loss: 11.2165 - mae: 11.2165\n",
            "Epoch 14/100\n",
            "1/1 [==============================] - 0s 7ms/step - loss: 11.2161 - mae: 11.2161\n",
            "Epoch 15/100\n",
            "1/1 [==============================] - 0s 8ms/step - loss: 11.2156 - mae: 11.2156\n",
            "Epoch 16/100\n",
            "1/1 [==============================] - 0s 7ms/step - loss: 11.2152 - mae: 11.2152\n",
            "Epoch 17/100\n",
            "1/1 [==============================] - 0s 8ms/step - loss: 11.2147 - mae: 11.2147\n",
            "Epoch 18/100\n",
            "1/1 [==============================] - 0s 8ms/step - loss: 11.2143 - mae: 11.2143\n",
            "Epoch 19/100\n",
            "1/1 [==============================] - 0s 10ms/step - loss: 11.2138 - mae: 11.2138\n",
            "Epoch 20/100\n",
            "1/1 [==============================] - 0s 7ms/step - loss: 11.2134 - mae: 11.2134\n",
            "Epoch 21/100\n",
            "1/1 [==============================] - 0s 8ms/step - loss: 11.2129 - mae: 11.2129\n",
            "Epoch 22/100\n",
            "1/1 [==============================] - 0s 8ms/step - loss: 11.2125 - mae: 11.2125\n",
            "Epoch 23/100\n",
            "1/1 [==============================] - 0s 6ms/step - loss: 11.2120 - mae: 11.2120\n",
            "Epoch 24/100\n",
            "1/1 [==============================] - 0s 6ms/step - loss: 11.2116 - mae: 11.2116\n",
            "Epoch 25/100\n",
            "1/1 [==============================] - 0s 8ms/step - loss: 11.2111 - mae: 11.2111\n",
            "Epoch 26/100\n",
            "1/1 [==============================] - 0s 9ms/step - loss: 11.2107 - mae: 11.2107\n",
            "Epoch 27/100\n",
            "1/1 [==============================] - 0s 6ms/step - loss: 11.2102 - mae: 11.2102\n",
            "Epoch 28/100\n",
            "1/1 [==============================] - 0s 7ms/step - loss: 11.2098 - mae: 11.2098\n",
            "Epoch 29/100\n",
            "1/1 [==============================] - 0s 8ms/step - loss: 11.2093 - mae: 11.2093\n",
            "Epoch 30/100\n",
            "1/1 [==============================] - 0s 7ms/step - loss: 11.2089 - mae: 11.2089\n",
            "Epoch 31/100\n",
            "1/1 [==============================] - 0s 8ms/step - loss: 11.2084 - mae: 11.2084\n",
            "Epoch 32/100\n",
            "1/1 [==============================] - 0s 7ms/step - loss: 11.2080 - mae: 11.2080\n",
            "Epoch 33/100\n",
            "1/1 [==============================] - 0s 8ms/step - loss: 11.2075 - mae: 11.2075\n",
            "Epoch 34/100\n",
            "1/1 [==============================] - 0s 6ms/step - loss: 11.2071 - mae: 11.2071\n",
            "Epoch 35/100\n",
            "1/1 [==============================] - 0s 13ms/step - loss: 11.2066 - mae: 11.2066\n",
            "Epoch 36/100\n",
            "1/1 [==============================] - 0s 7ms/step - loss: 11.2062 - mae: 11.2062\n",
            "Epoch 37/100\n",
            "1/1 [==============================] - 0s 10ms/step - loss: 11.2057 - mae: 11.2057\n",
            "Epoch 38/100\n",
            "1/1 [==============================] - 0s 8ms/step - loss: 11.2053 - mae: 11.2053\n",
            "Epoch 39/100\n",
            "1/1 [==============================] - 0s 9ms/step - loss: 11.2048 - mae: 11.2048\n",
            "Epoch 40/100\n",
            "1/1 [==============================] - 0s 10ms/step - loss: 11.2044 - mae: 11.2044\n",
            "Epoch 41/100\n",
            "1/1 [==============================] - 0s 9ms/step - loss: 11.2039 - mae: 11.2039\n",
            "Epoch 42/100\n",
            "1/1 [==============================] - 0s 7ms/step - loss: 11.2035 - mae: 11.2035\n",
            "Epoch 43/100\n",
            "1/1 [==============================] - 0s 8ms/step - loss: 11.2030 - mae: 11.2030\n",
            "Epoch 44/100\n",
            "1/1 [==============================] - 0s 8ms/step - loss: 11.2026 - mae: 11.2026\n",
            "Epoch 45/100\n",
            "1/1 [==============================] - 0s 6ms/step - loss: 11.2021 - mae: 11.2021\n",
            "Epoch 46/100\n",
            "1/1 [==============================] - 0s 8ms/step - loss: 11.2017 - mae: 11.2017\n",
            "Epoch 47/100\n",
            "1/1 [==============================] - 0s 9ms/step - loss: 11.2012 - mae: 11.2012\n",
            "Epoch 48/100\n",
            "1/1 [==============================] - 0s 6ms/step - loss: 11.2008 - mae: 11.2008\n",
            "Epoch 49/100\n",
            "1/1 [==============================] - 0s 8ms/step - loss: 11.2003 - mae: 11.2003\n",
            "Epoch 50/100\n",
            "1/1 [==============================] - 0s 7ms/step - loss: 11.1999 - mae: 11.1999\n",
            "Epoch 51/100\n",
            "1/1 [==============================] - 0s 6ms/step - loss: 11.1994 - mae: 11.1994\n",
            "Epoch 52/100\n",
            "1/1 [==============================] - 0s 10ms/step - loss: 11.1990 - mae: 11.1990\n",
            "Epoch 53/100\n",
            "1/1 [==============================] - 0s 7ms/step - loss: 11.1985 - mae: 11.1985\n",
            "Epoch 54/100\n",
            "1/1 [==============================] - 0s 8ms/step - loss: 11.1981 - mae: 11.1981\n",
            "Epoch 55/100\n",
            "1/1 [==============================] - 0s 12ms/step - loss: 11.1976 - mae: 11.1976\n",
            "Epoch 56/100\n",
            "1/1 [==============================] - 0s 7ms/step - loss: 11.1972 - mae: 11.1972\n",
            "Epoch 57/100\n",
            "1/1 [==============================] - 0s 10ms/step - loss: 11.1967 - mae: 11.1967\n",
            "Epoch 58/100\n",
            "1/1 [==============================] - 0s 8ms/step - loss: 11.1963 - mae: 11.1963\n",
            "Epoch 59/100\n",
            "1/1 [==============================] - 0s 6ms/step - loss: 11.1958 - mae: 11.1958\n",
            "Epoch 60/100\n",
            "1/1 [==============================] - 0s 7ms/step - loss: 11.1954 - mae: 11.1954\n",
            "Epoch 61/100\n",
            "1/1 [==============================] - 0s 7ms/step - loss: 11.1949 - mae: 11.1949\n",
            "Epoch 62/100\n",
            "1/1 [==============================] - 0s 6ms/step - loss: 11.1945 - mae: 11.1945\n",
            "Epoch 63/100\n",
            "1/1 [==============================] - 0s 20ms/step - loss: 11.1940 - mae: 11.1940\n",
            "Epoch 64/100\n",
            "1/1 [==============================] - 0s 11ms/step - loss: 11.1936 - mae: 11.1936\n",
            "Epoch 65/100\n",
            "1/1 [==============================] - 0s 9ms/step - loss: 11.1931 - mae: 11.1931\n",
            "Epoch 66/100\n",
            "1/1 [==============================] - 0s 6ms/step - loss: 11.1927 - mae: 11.1927\n",
            "Epoch 67/100\n",
            "1/1 [==============================] - 0s 6ms/step - loss: 11.1922 - mae: 11.1922\n",
            "Epoch 68/100\n",
            "1/1 [==============================] - 0s 7ms/step - loss: 11.1918 - mae: 11.1918\n",
            "Epoch 69/100\n",
            "1/1 [==============================] - 0s 11ms/step - loss: 11.1913 - mae: 11.1913\n",
            "Epoch 70/100\n",
            "1/1 [==============================] - 0s 10ms/step - loss: 11.1909 - mae: 11.1909\n",
            "Epoch 71/100\n",
            "1/1 [==============================] - 0s 9ms/step - loss: 11.1904 - mae: 11.1904\n",
            "Epoch 72/100\n",
            "1/1 [==============================] - 0s 15ms/step - loss: 11.1900 - mae: 11.1900\n",
            "Epoch 73/100\n",
            "1/1 [==============================] - 0s 7ms/step - loss: 11.1895 - mae: 11.1895\n",
            "Epoch 74/100\n",
            "1/1 [==============================] - 0s 9ms/step - loss: 11.1891 - mae: 11.1891\n",
            "Epoch 75/100\n",
            "1/1 [==============================] - 0s 9ms/step - loss: 11.1886 - mae: 11.1886\n",
            "Epoch 76/100\n",
            "1/1 [==============================] - 0s 7ms/step - loss: 11.1882 - mae: 11.1882\n",
            "Epoch 77/100\n",
            "1/1 [==============================] - 0s 8ms/step - loss: 11.1877 - mae: 11.1877\n",
            "Epoch 78/100\n",
            "1/1 [==============================] - 0s 7ms/step - loss: 11.1873 - mae: 11.1873\n",
            "Epoch 79/100\n",
            "1/1 [==============================] - 0s 8ms/step - loss: 11.1868 - mae: 11.1868\n",
            "Epoch 80/100\n",
            "1/1 [==============================] - 0s 8ms/step - loss: 11.1864 - mae: 11.1864\n",
            "Epoch 81/100\n",
            "1/1 [==============================] - 0s 12ms/step - loss: 11.1859 - mae: 11.1859\n",
            "Epoch 82/100\n",
            "1/1 [==============================] - 0s 11ms/step - loss: 11.1855 - mae: 11.1855\n",
            "Epoch 83/100\n",
            "1/1 [==============================] - 0s 7ms/step - loss: 11.1850 - mae: 11.1850\n",
            "Epoch 84/100\n",
            "1/1 [==============================] - 0s 7ms/step - loss: 11.1846 - mae: 11.1846\n",
            "Epoch 85/100\n",
            "1/1 [==============================] - 0s 9ms/step - loss: 11.1841 - mae: 11.1841\n",
            "Epoch 86/100\n",
            "1/1 [==============================] - 0s 9ms/step - loss: 11.1837 - mae: 11.1837\n",
            "Epoch 87/100\n",
            "1/1 [==============================] - 0s 7ms/step - loss: 11.1832 - mae: 11.1832\n",
            "Epoch 88/100\n",
            "1/1 [==============================] - 0s 8ms/step - loss: 11.1828 - mae: 11.1828\n",
            "Epoch 89/100\n",
            "1/1 [==============================] - 0s 8ms/step - loss: 11.1823 - mae: 11.1823\n",
            "Epoch 90/100\n",
            "1/1 [==============================] - 0s 7ms/step - loss: 11.1819 - mae: 11.1819\n",
            "Epoch 91/100\n",
            "1/1 [==============================] - 0s 8ms/step - loss: 11.1814 - mae: 11.1814\n",
            "Epoch 92/100\n",
            "1/1 [==============================] - 0s 10ms/step - loss: 11.1810 - mae: 11.1810\n",
            "Epoch 93/100\n",
            "1/1 [==============================] - 0s 7ms/step - loss: 11.1805 - mae: 11.1805\n",
            "Epoch 94/100\n",
            "1/1 [==============================] - 0s 10ms/step - loss: 11.1801 - mae: 11.1801\n",
            "Epoch 95/100\n",
            "1/1 [==============================] - 0s 7ms/step - loss: 11.1796 - mae: 11.1796\n",
            "Epoch 96/100\n",
            "1/1 [==============================] - 0s 6ms/step - loss: 11.1792 - mae: 11.1792\n",
            "Epoch 97/100\n",
            "1/1 [==============================] - 0s 8ms/step - loss: 11.1787 - mae: 11.1787\n",
            "Epoch 98/100\n",
            "1/1 [==============================] - 0s 10ms/step - loss: 11.1783 - mae: 11.1783\n",
            "Epoch 99/100\n",
            "1/1 [==============================] - 0s 9ms/step - loss: 11.1778 - mae: 11.1778\n",
            "Epoch 100/100\n",
            "1/1 [==============================] - 0s 8ms/step - loss: 11.1774 - mae: 11.1774\n"
          ]
        },
        {
          "output_type": "execute_result",
          "data": {
            "text/plain": [
              "<keras.callbacks.History at 0x7f0446472b90>"
            ]
          },
          "metadata": {},
          "execution_count": 14
        }
      ]
    },
    {
      "cell_type": "code",
      "source": [
        "y_preds = model.predict(X)"
      ],
      "metadata": {
        "id": "0m4sqQlInjkW"
      },
      "execution_count": null,
      "outputs": []
    },
    {
      "cell_type": "code",
      "source": [
        "y_preds"
      ],
      "metadata": {
        "colab": {
          "base_uri": "https://localhost:8080/"
        },
        "id": "1yIx4tKXnoZC",
        "outputId": "46b5c531-863d-479c-c98b-cd0ff9713b97"
      },
      "execution_count": null,
      "outputs": [
        {
          "output_type": "execute_result",
          "data": {
            "text/plain": [
              "array([[-4.6161313],\n",
              "       [-2.6335037],\n",
              "       [-0.6508759],\n",
              "       [ 1.3317518],\n",
              "       [ 3.3143795],\n",
              "       [ 5.2970076],\n",
              "       [ 7.2796354],\n",
              "       [ 9.262263 ]], dtype=float32)"
            ]
          },
          "metadata": {},
          "execution_count": 16
        }
      ]
    },
    {
      "cell_type": "code",
      "source": [
        "y"
      ],
      "metadata": {
        "colab": {
          "base_uri": "https://localhost:8080/"
        },
        "id": "EnFxQxoqnqEH",
        "outputId": "43035706-86eb-447d-c4d1-3d3c62aa29f0"
      },
      "execution_count": null,
      "outputs": [
        {
          "output_type": "execute_result",
          "data": {
            "text/plain": [
              "<tf.Tensor: shape=(8,), dtype=float64, numpy=array([ 3.,  6.,  9., 12., 15., 18., 21., 24.])>"
            ]
          },
          "metadata": {},
          "execution_count": 17
        }
      ]
    },
    {
      "cell_type": "markdown",
      "source": [
        "## Evaluating a Model\n",
        "\n",
        "In Practice, a typical workflow all have to go through when building a nural networl:-\n",
        "\n",
        "```\n",
        "Build a model -> fit it -> evaluate it -> tweak a model-> fit it -> evaluate it -> tweak it -> fit it.... \n",
        "```\n"
      ],
      "metadata": {
        "id": "l3zlxZ8Yn7cO"
      }
    },
    {
      "cell_type": "code",
      "source": [
        " # Make a bigger data set\n",
        "\n",
        " X = tf.range(-100,100,4)\n",
        " X"
      ],
      "metadata": {
        "colab": {
          "base_uri": "https://localhost:8080/"
        },
        "id": "7wqKCP7Dq12H",
        "outputId": "c3673174-3341-4d1e-8bff-811249108f2c"
      },
      "execution_count": null,
      "outputs": [
        {
          "output_type": "execute_result",
          "data": {
            "text/plain": [
              "<tf.Tensor: shape=(50,), dtype=int32, numpy=\n",
              "array([-100,  -96,  -92,  -88,  -84,  -80,  -76,  -72,  -68,  -64,  -60,\n",
              "        -56,  -52,  -48,  -44,  -40,  -36,  -32,  -28,  -24,  -20,  -16,\n",
              "        -12,   -8,   -4,    0,    4,    8,   12,   16,   20,   24,   28,\n",
              "         32,   36,   40,   44,   48,   52,   56,   60,   64,   68,   72,\n",
              "         76,   80,   84,   88,   92,   96], dtype=int32)>"
            ]
          },
          "metadata": {},
          "execution_count": 18
        }
      ]
    },
    {
      "cell_type": "code",
      "source": [
        "# Make a label dataset\n",
        "\n",
        "y=X+10\n",
        "y"
      ],
      "metadata": {
        "colab": {
          "base_uri": "https://localhost:8080/"
        },
        "id": "4d5nQg6gshIb",
        "outputId": "562a8e3f-ca26-4a8e-eb01-08448a0d2b35"
      },
      "execution_count": null,
      "outputs": [
        {
          "output_type": "execute_result",
          "data": {
            "text/plain": [
              "<tf.Tensor: shape=(50,), dtype=int32, numpy=\n",
              "array([-90, -86, -82, -78, -74, -70, -66, -62, -58, -54, -50, -46, -42,\n",
              "       -38, -34, -30, -26, -22, -18, -14, -10,  -6,  -2,   2,   6,  10,\n",
              "        14,  18,  22,  26,  30,  34,  38,  42,  46,  50,  54,  58,  62,\n",
              "        66,  70,  74,  78,  82,  86,  90,  94,  98, 102, 106], dtype=int32)>"
            ]
          },
          "metadata": {},
          "execution_count": 19
        }
      ]
    },
    {
      "cell_type": "code",
      "source": [
        "# Visualize a data\n",
        "import matplotlib.pyplot as plt\n",
        "\n",
        "plt.scatter(X,y)\n",
        "plt.title('X and y plot');"
      ],
      "metadata": {
        "colab": {
          "base_uri": "https://localhost:8080/",
          "height": 281
        },
        "id": "Z5O2m4aNsugI",
        "outputId": "591dbf7e-0c16-4016-cf3d-7e7d7dc8fad0"
      },
      "execution_count": null,
      "outputs": [
        {
          "output_type": "display_data",
          "data": {
            "text/plain": [
              "<Figure size 432x288 with 1 Axes>"
            ],
            "image/png": "[encoded data removed]"
          },
          "metadata": {
            "needs_background": "light"
          }
        }
      ]
    },
    {
      "cell_type": "code",
      "source": [
        "import numpy as np\n",
        "from sklearn.model_selection import train_test_split\n",
        "\n",
        "X_train,X_test,y_train,y_test = train_test_split(np.array(X),np.array(y),test_size=0.2)"
      ],
      "metadata": {
        "id": "mt5V7Cevs9Ad"
      },
      "execution_count": null,
      "outputs": []
    },
    {
      "cell_type": "code",
      "source": [
        "X_train,y_train"
      ],
      "metadata": {
        "colab": {
          "base_uri": "https://localhost:8080/"
        },
        "id": "fq_wNoyBtrph",
        "outputId": "c10ef440-17d8-415e-c198-c23f464e2551"
      },
      "execution_count": null,
      "outputs": [
        {
          "output_type": "execute_result",
          "data": {
            "text/plain": [
              "(array([  68,   -8,   44,  -20,  -36,   96,  -92,  -48,  -56,   84,    0,\n",
              "         -84,  -44,   76,   -4,  -72,  -24,   40,   36,  -76,   32, -100,\n",
              "         -64,  -68,  -16,  -96,    4,  -88,    8,   64,   12,  -60,   52,\n",
              "         -28,   20,   60,   24,  -80,  -12,   80], dtype=int32),\n",
              " array([ 78,   2,  54, -10, -26, 106, -82, -38, -46,  94,  10, -74, -34,\n",
              "         86,   6, -62, -14,  50,  46, -66,  42, -90, -54, -58,  -6, -86,\n",
              "         14, -78,  18,  74,  22, -50,  62, -18,  30,  70,  34, -70,  -2,\n",
              "         90], dtype=int32))"
            ]
          },
          "metadata": {},
          "execution_count": 22
        }
      ]
    },
    {
      "cell_type": "code",
      "source": [
        "X_train = tf.constant(X_train)\n",
        "X_test = tf.constant(X_test)\n",
        "y_train = tf.constant(y_train)\n",
        "y_test = tf.constant(y_test)"
      ],
      "metadata": {
        "id": "UVBTXOG7t94T"
      },
      "execution_count": null,
      "outputs": []
    },
    {
      "cell_type": "code",
      "source": [
        "X_train,X_test,y_train,y_test"
      ],
      "metadata": {
        "colab": {
          "base_uri": "https://localhost:8080/"
        },
        "id": "FI60-LZDuNsC",
        "outputId": "6e326fe5-62e5-4ba1-c1bb-ed713602d228"
      },
      "execution_count": null,
      "outputs": [
        {
          "output_type": "execute_result",
          "data": {
            "text/plain": [
              "(<tf.Tensor: shape=(40,), dtype=int32, numpy=\n",
              " array([  68,   -8,   44,  -20,  -36,   96,  -92,  -48,  -56,   84,    0,\n",
              "         -84,  -44,   76,   -4,  -72,  -24,   40,   36,  -76,   32, -100,\n",
              "         -64,  -68,  -16,  -96,    4,  -88,    8,   64,   12,  -60,   52,\n",
              "         -28,   20,   60,   24,  -80,  -12,   80], dtype=int32)>,\n",
              " <tf.Tensor: shape=(10,), dtype=int32, numpy=array([ 56, -52,  88, -32,  92,  16, -40,  48,  28,  72], dtype=int32)>,\n",
              " <tf.Tensor: shape=(40,), dtype=int32, numpy=\n",
              " array([ 78,   2,  54, -10, -26, 106, -82, -38, -46,  94,  10, -74, -34,\n",
              "         86,   6, -62, -14,  50,  46, -66,  42, -90, -54, -58,  -6, -86,\n",
              "         14, -78,  18,  74,  22, -50,  62, -18,  30,  70,  34, -70,  -2,\n",
              "         90], dtype=int32)>,\n",
              " <tf.Tensor: shape=(10,), dtype=int32, numpy=array([ 66, -42,  98, -22, 102,  26, -30,  58,  38,  82], dtype=int32)>)"
            ]
          },
          "metadata": {},
          "execution_count": 24
        }
      ]
    },
    {
      "cell_type": "code",
      "source": [
        "plt.figure(figsize=(10,7));\n",
        "\n",
        "plt.scatter(X_train,y_train,c=\"b\",label=\"trainig data\")\n",
        "plt.scatter(X_test,y_test,c=\"g\",label=\"test data\")\n",
        "plt.legend();"
      ],
      "metadata": {
        "colab": {
          "base_uri": "https://localhost:8080/",
          "height": 428
        },
        "id": "4vB1mjJEuRtz",
        "outputId": "74bfc6b4-8769-478b-eb1c-9c8fcd8c2e9e"
      },
      "execution_count": null,
      "outputs": [
        {
          "output_type": "display_data",
          "data": {
            "text/plain": [
              "<Figure size 720x504 with 1 Axes>"
            ],
            "image/png": "[encoded data removed]"
          },
          "metadata": {
            "needs_background": "light"
          }
        }
      ]
    },
    {
      "cell_type": "code",
      "source": [
        "# Let's Create our nueral network model\n",
        "\n",
        "# 1. Create a model \n",
        "model = tf.keras.Sequential([\n",
        "  tf.keras.layers.Dense(1)\n",
        "])\n",
        "\n",
        "# 2. Complie model\n",
        "\n",
        "model.compile(loss=tf.keras.losses.mae,\n",
        "              optimizer=tf.keras.optimizers.SGD(),\n",
        "              metrics=[\"mae\"])\n",
        "\n",
        "# 3. Fitting the data\n",
        "\n",
        "model.fit(tf.expand_dims(X_train,axis=-1),y_train,epochs=100)"
      ],
      "metadata": {
        "colab": {
          "base_uri": "https://localhost:8080/"
        },
        "id": "nL1xwU2kul1D",
        "outputId": "df8ffc24-ca4e-4767-fcec-6c698a8f348a"
      },
      "execution_count": null,
      "outputs": [
        {
          "output_type": "stream",
          "name": "stdout",
          "text": [
            "Epoch 1/100\n",
            "2/2 [==============================] - 0s 7ms/step - loss: 9.9172 - mae: 9.9172\n",
            "Epoch 2/100\n",
            "2/2 [==============================] - 0s 6ms/step - loss: 11.2105 - mae: 11.2105\n",
            "Epoch 3/100\n",
            "2/2 [==============================] - 0s 6ms/step - loss: 19.5644 - mae: 19.5644\n",
            "Epoch 4/100\n",
            "2/2 [==============================] - 0s 5ms/step - loss: 9.0134 - mae: 9.0134\n",
            "Epoch 5/100\n",
            "2/2 [==============================] - 0s 6ms/step - loss: 10.4153 - mae: 10.4153\n",
            "Epoch 6/100\n",
            "2/2 [==============================] - 0s 6ms/step - loss: 11.1762 - mae: 11.1762\n",
            "Epoch 7/100\n",
            "2/2 [==============================] - 0s 6ms/step - loss: 10.3418 - mae: 10.3418\n",
            "Epoch 8/100\n",
            "2/2 [==============================] - 0s 6ms/step - loss: 8.8773 - mae: 8.8773\n",
            "Epoch 9/100\n",
            "2/2 [==============================] - 0s 6ms/step - loss: 9.3529 - mae: 9.3529\n",
            "Epoch 10/100\n",
            "2/2 [==============================] - 0s 5ms/step - loss: 9.0171 - mae: 9.0171\n",
            "Epoch 11/100\n",
            "2/2 [==============================] - 0s 6ms/step - loss: 9.5443 - mae: 9.5443\n",
            "Epoch 12/100\n",
            "2/2 [==============================] - 0s 6ms/step - loss: 11.7511 - mae: 11.7511\n",
            "Epoch 13/100\n",
            "2/2 [==============================] - 0s 6ms/step - loss: 9.3952 - mae: 9.3952\n",
            "Epoch 14/100\n",
            "2/2 [==============================] - 0s 6ms/step - loss: 20.0334 - mae: 20.0334\n",
            "Epoch 15/100\n",
            "2/2 [==============================] - 0s 8ms/step - loss: 23.2082 - mae: 23.2082\n",
            "Epoch 16/100\n",
            "2/2 [==============================] - 0s 6ms/step - loss: 10.2211 - mae: 10.2211\n",
            "Epoch 17/100\n",
            "2/2 [==============================] - 0s 6ms/step - loss: 16.5997 - mae: 16.5997\n",
            "Epoch 18/100\n",
            "2/2 [==============================] - 0s 6ms/step - loss: 10.6092 - mae: 10.6092\n",
            "Epoch 19/100\n",
            "2/2 [==============================] - 0s 6ms/step - loss: 8.9972 - mae: 8.9972\n",
            "Epoch 20/100\n",
            "2/2 [==============================] - 0s 6ms/step - loss: 18.0716 - mae: 18.0716\n",
            "Epoch 21/100\n",
            "2/2 [==============================] - 0s 6ms/step - loss: 12.6443 - mae: 12.6443\n",
            "Epoch 22/100\n",
            "2/2 [==============================] - 0s 6ms/step - loss: 16.4033 - mae: 16.4033\n",
            "Epoch 23/100\n",
            "2/2 [==============================] - 0s 5ms/step - loss: 10.9673 - mae: 10.9673\n",
            "Epoch 24/100\n",
            "2/2 [==============================] - 0s 6ms/step - loss: 9.2219 - mae: 9.2219\n",
            "Epoch 25/100\n",
            "2/2 [==============================] - 0s 10ms/step - loss: 18.5829 - mae: 18.5829\n",
            "Epoch 26/100\n",
            "2/2 [==============================] - 0s 5ms/step - loss: 9.8836 - mae: 9.8836\n",
            "Epoch 27/100\n",
            "2/2 [==============================] - 0s 6ms/step - loss: 12.2507 - mae: 12.2507\n",
            "Epoch 28/100\n",
            "2/2 [==============================] - 0s 5ms/step - loss: 9.2081 - mae: 9.2081\n",
            "Epoch 29/100\n",
            "2/2 [==============================] - 0s 6ms/step - loss: 11.9467 - mae: 11.9467\n",
            "Epoch 30/100\n",
            "2/2 [==============================] - 0s 6ms/step - loss: 14.0985 - mae: 14.0985\n",
            "Epoch 31/100\n",
            "2/2 [==============================] - 0s 6ms/step - loss: 10.0748 - mae: 10.0748\n",
            "Epoch 32/100\n",
            "2/2 [==============================] - 0s 6ms/step - loss: 12.5301 - mae: 12.5301\n",
            "Epoch 33/100\n",
            "2/2 [==============================] - 0s 5ms/step - loss: 16.0716 - mae: 16.0716\n",
            "Epoch 34/100\n",
            "2/2 [==============================] - 0s 8ms/step - loss: 9.6936 - mae: 9.6936\n",
            "Epoch 35/100\n",
            "2/2 [==============================] - 0s 6ms/step - loss: 9.7765 - mae: 9.7765\n",
            "Epoch 36/100\n",
            "2/2 [==============================] - 0s 6ms/step - loss: 8.8427 - mae: 8.8427\n",
            "Epoch 37/100\n",
            "2/2 [==============================] - 0s 6ms/step - loss: 10.6924 - mae: 10.6924\n",
            "Epoch 38/100\n",
            "2/2 [==============================] - 0s 6ms/step - loss: 9.3954 - mae: 9.3954\n",
            "Epoch 39/100\n",
            "2/2 [==============================] - 0s 6ms/step - loss: 9.9957 - mae: 9.9957\n",
            "Epoch 40/100\n",
            "2/2 [==============================] - 0s 6ms/step - loss: 10.3819 - mae: 10.3819\n",
            "Epoch 41/100\n",
            "2/2 [==============================] - 0s 5ms/step - loss: 12.1848 - mae: 12.1848\n",
            "Epoch 42/100\n",
            "2/2 [==============================] - 0s 6ms/step - loss: 17.3969 - mae: 17.3969\n",
            "Epoch 43/100\n",
            "2/2 [==============================] - 0s 5ms/step - loss: 8.3862 - mae: 8.3862\n",
            "Epoch 44/100\n",
            "2/2 [==============================] - 0s 6ms/step - loss: 11.8047 - mae: 11.8047\n",
            "Epoch 45/100\n",
            "2/2 [==============================] - 0s 5ms/step - loss: 13.0121 - mae: 13.0121\n",
            "Epoch 46/100\n",
            "2/2 [==============================] - 0s 6ms/step - loss: 9.7784 - mae: 9.7784\n",
            "Epoch 47/100\n",
            "2/2 [==============================] - 0s 6ms/step - loss: 14.8879 - mae: 14.8879\n",
            "Epoch 48/100\n",
            "2/2 [==============================] - 0s 6ms/step - loss: 9.3532 - mae: 9.3532\n",
            "Epoch 49/100\n",
            "2/2 [==============================] - 0s 6ms/step - loss: 8.7870 - mae: 8.7870\n",
            "Epoch 50/100\n",
            "2/2 [==============================] - 0s 15ms/step - loss: 14.4504 - mae: 14.4504\n",
            "Epoch 51/100\n",
            "2/2 [==============================] - 0s 6ms/step - loss: 13.7209 - mae: 13.7209\n",
            "Epoch 52/100\n",
            "2/2 [==============================] - 0s 6ms/step - loss: 10.8146 - mae: 10.8146\n",
            "Epoch 53/100\n",
            "2/2 [==============================] - 0s 6ms/step - loss: 9.6833 - mae: 9.6833\n",
            "Epoch 54/100\n",
            "2/2 [==============================] - 0s 5ms/step - loss: 10.8198 - mae: 10.8198\n",
            "Epoch 55/100\n",
            "2/2 [==============================] - 0s 6ms/step - loss: 11.8966 - mae: 11.8966\n",
            "Epoch 56/100\n",
            "2/2 [==============================] - 0s 6ms/step - loss: 15.4146 - mae: 15.4146\n",
            "Epoch 57/100\n",
            "2/2 [==============================] - 0s 5ms/step - loss: 11.7480 - mae: 11.7480\n",
            "Epoch 58/100\n",
            "2/2 [==============================] - 0s 6ms/step - loss: 10.0632 - mae: 10.0632\n",
            "Epoch 59/100\n",
            "2/2 [==============================] - 0s 6ms/step - loss: 8.3841 - mae: 8.3841\n",
            "Epoch 60/100\n",
            "2/2 [==============================] - 0s 7ms/step - loss: 10.2791 - mae: 10.2791\n",
            "Epoch 61/100\n",
            "2/2 [==============================] - 0s 6ms/step - loss: 14.7883 - mae: 14.7883\n",
            "Epoch 62/100\n",
            "2/2 [==============================] - 0s 6ms/step - loss: 9.2069 - mae: 9.2069\n",
            "Epoch 63/100\n",
            "2/2 [==============================] - 0s 6ms/step - loss: 15.3203 - mae: 15.3203\n",
            "Epoch 64/100\n",
            "2/2 [==============================] - 0s 6ms/step - loss: 18.1698 - mae: 18.1698\n",
            "Epoch 65/100\n",
            "2/2 [==============================] - 0s 8ms/step - loss: 12.7101 - mae: 12.7101\n",
            "Epoch 66/100\n",
            "2/2 [==============================] - 0s 5ms/step - loss: 14.0819 - mae: 14.0819\n",
            "Epoch 67/100\n",
            "2/2 [==============================] - 0s 6ms/step - loss: 11.5764 - mae: 11.5764\n",
            "Epoch 68/100\n",
            "2/2 [==============================] - 0s 8ms/step - loss: 8.9348 - mae: 8.9348\n",
            "Epoch 69/100\n",
            "2/2 [==============================] - 0s 6ms/step - loss: 12.2526 - mae: 12.2526\n",
            "Epoch 70/100\n",
            "2/2 [==============================] - 0s 6ms/step - loss: 8.2077 - mae: 8.2077\n",
            "Epoch 71/100\n",
            "2/2 [==============================] - 0s 6ms/step - loss: 8.0137 - mae: 8.0137\n",
            "Epoch 72/100\n",
            "2/2 [==============================] - 0s 6ms/step - loss: 9.6743 - mae: 9.6743\n",
            "Epoch 73/100\n",
            "2/2 [==============================] - 0s 6ms/step - loss: 8.8782 - mae: 8.8782\n",
            "Epoch 74/100\n",
            "2/2 [==============================] - 0s 6ms/step - loss: 8.5769 - mae: 8.5769\n",
            "Epoch 75/100\n",
            "2/2 [==============================] - 0s 6ms/step - loss: 8.6982 - mae: 8.6982\n",
            "Epoch 76/100\n",
            "2/2 [==============================] - 0s 6ms/step - loss: 17.3944 - mae: 17.3944\n",
            "Epoch 77/100\n",
            "2/2 [==============================] - 0s 6ms/step - loss: 9.4623 - mae: 9.4623\n",
            "Epoch 78/100\n",
            "2/2 [==============================] - 0s 6ms/step - loss: 9.8637 - mae: 9.8637\n",
            "Epoch 79/100\n",
            "2/2 [==============================] - 0s 7ms/step - loss: 13.6936 - mae: 13.6936\n",
            "Epoch 80/100\n",
            "2/2 [==============================] - 0s 6ms/step - loss: 9.5587 - mae: 9.5587\n",
            "Epoch 81/100\n",
            "2/2 [==============================] - 0s 6ms/step - loss: 8.7220 - mae: 8.7220\n",
            "Epoch 82/100\n",
            "2/2 [==============================] - 0s 6ms/step - loss: 12.9073 - mae: 12.9073\n",
            "Epoch 83/100\n",
            "2/2 [==============================] - 0s 7ms/step - loss: 8.2205 - mae: 8.2205\n",
            "Epoch 84/100\n",
            "2/2 [==============================] - 0s 6ms/step - loss: 8.2656 - mae: 8.2656\n",
            "Epoch 85/100\n",
            "2/2 [==============================] - 0s 6ms/step - loss: 8.3970 - mae: 8.3970\n",
            "Epoch 86/100\n",
            "2/2 [==============================] - 0s 8ms/step - loss: 8.9176 - mae: 8.9176\n",
            "Epoch 87/100\n",
            "2/2 [==============================] - 0s 6ms/step - loss: 15.7979 - mae: 15.7979\n",
            "Epoch 88/100\n",
            "2/2 [==============================] - 0s 6ms/step - loss: 11.2075 - mae: 11.2075\n",
            "Epoch 89/100\n",
            "2/2 [==============================] - 0s 6ms/step - loss: 14.0513 - mae: 14.0513\n",
            "Epoch 90/100\n",
            "2/2 [==============================] - 0s 7ms/step - loss: 15.7710 - mae: 15.7710\n",
            "Epoch 91/100\n",
            "2/2 [==============================] - 0s 6ms/step - loss: 9.6852 - mae: 9.6852\n",
            "Epoch 92/100\n",
            "2/2 [==============================] - 0s 6ms/step - loss: 9.2494 - mae: 9.2494\n",
            "Epoch 93/100\n",
            "2/2 [==============================] - 0s 6ms/step - loss: 11.7213 - mae: 11.7213\n",
            "Epoch 94/100\n",
            "2/2 [==============================] - 0s 6ms/step - loss: 16.2244 - mae: 16.2244\n",
            "Epoch 95/100\n",
            "2/2 [==============================] - 0s 6ms/step - loss: 15.4940 - mae: 15.4940\n",
            "Epoch 96/100\n",
            "2/2 [==============================] - 0s 6ms/step - loss: 7.8273 - mae: 7.8273\n",
            "Epoch 97/100\n",
            "2/2 [==============================] - 0s 6ms/step - loss: 9.4586 - mae: 9.4586\n",
            "Epoch 98/100\n",
            "2/2 [==============================] - 0s 7ms/step - loss: 14.4378 - mae: 14.4378\n",
            "Epoch 99/100\n",
            "2/2 [==============================] - 0s 6ms/step - loss: 9.8759 - mae: 9.8759\n",
            "Epoch 100/100\n",
            "2/2 [==============================] - 0s 6ms/step - loss: 9.0478 - mae: 9.0478\n"
          ]
        },
        {
          "output_type": "execute_result",
          "data": {
            "text/plain": [
              "<keras.callbacks.History at 0x7f0423daf090>"
            ]
          },
          "metadata": {},
          "execution_count": 26
        }
      ]
    },
    {
      "cell_type": "markdown",
      "source": [
        "## Visualizing the model  "
      ],
      "metadata": {
        "id": "VvxvfLRuw8WX"
      }
    },
    {
      "cell_type": "code",
      "source": [
        "model.summary()"
      ],
      "metadata": {
        "colab": {
          "base_uri": "https://localhost:8080/"
        },
        "id": "nOetYVeSxU-T",
        "outputId": "06e09faf-7abe-476e-a4d8-90bf230c38fc"
      },
      "execution_count": null,
      "outputs": [
        {
          "output_type": "stream",
          "name": "stdout",
          "text": [
            "Model: \"sequential_2\"\n",
            "_________________________________________________________________\n",
            " Layer (type)                Output Shape              Param #   \n",
            "=================================================================\n",
            " dense_2 (Dense)             (None, 1)                 2         \n",
            "                                                                 \n",
            "=================================================================\n",
            "Total params: 2\n",
            "Trainable params: 2\n",
            "Non-trainable params: 0\n",
            "_________________________________________________________________\n"
          ]
        }
      ]
    },
    {
      "cell_type": "code",
      "source": [
        "# Create a model on based upon input shape\n",
        "\n",
        "model = tf.keras.Sequential([\n",
        "  tf.keras.layers.Dense(100,input_shape=[1],name=\"input_layer\"),\n",
        "  tf.keras.layers.Dense(1,input_shape=[1],name=\"output_layer\")\n",
        "],name=\"model_1\")\n",
        "\n",
        "model.compile(loss=tf.keras.losses.mae,\n",
        "              optimizer=tf.keras.optimizers.SGD(),\n",
        "              metrics=[\"mae\"])\n",
        "\n"
      ],
      "metadata": {
        "id": "mI3kHy5exYUl"
      },
      "execution_count": null,
      "outputs": []
    },
    {
      "cell_type": "code",
      "source": [
        "model.summary()"
      ],
      "metadata": {
        "colab": {
          "base_uri": "https://localhost:8080/"
        },
        "id": "4qCGOkhvzkMO",
        "outputId": "7524252c-c196-496c-e515-011185658aa1"
      },
      "execution_count": null,
      "outputs": [
        {
          "output_type": "stream",
          "name": "stdout",
          "text": [
            "Model: \"model_1\"\n",
            "_________________________________________________________________\n",
            " Layer (type)                Output Shape              Param #   \n",
            "=================================================================\n",
            " input_layer (Dense)         (None, 100)               200       \n",
            "                                                                 \n",
            " output_layer (Dense)        (None, 1)                 101       \n",
            "                                                                 \n",
            "=================================================================\n",
            "Total params: 301\n",
            "Trainable params: 301\n",
            "Non-trainable params: 0\n",
            "_________________________________________________________________\n"
          ]
        }
      ]
    },
    {
      "cell_type": "code",
      "source": [
        "model.fit(tf.expand_dims(X_train,axis=-1),y_train,verbose=0)"
      ],
      "metadata": {
        "colab": {
          "base_uri": "https://localhost:8080/"
        },
        "id": "w_gWRTEVzqG2",
        "outputId": "e184a0ca-90c3-4cee-8423-94a26b717083"
      },
      "execution_count": null,
      "outputs": [
        {
          "output_type": "execute_result",
          "data": {
            "text/plain": [
              "<keras.callbacks.History at 0x7f0423c90c10>"
            ]
          },
          "metadata": {},
          "execution_count": 30
        }
      ]
    },
    {
      "cell_type": "code",
      "source": [
        "model.predict(X_test)"
      ],
      "metadata": {
        "colab": {
          "base_uri": "https://localhost:8080/"
        },
        "id": "NomE8AdjSKez",
        "outputId": "b8baa521-60d4-46ef-a5a0-7e3d8ac642a8"
      },
      "execution_count": null,
      "outputs": [
        {
          "output_type": "execute_result",
          "data": {
            "text/plain": [
              "array([[ 15.492969],\n",
              "       [-14.389336],\n",
              "       [ 24.346985],\n",
              "       [ -8.855575],\n",
              "       [ 25.453735],\n",
              "       [  4.425449],\n",
              "       [-11.069079],\n",
              "       [ 13.279466],\n",
              "       [  7.745704],\n",
              "       [ 19.919975]], dtype=float32)"
            ]
          },
          "metadata": {},
          "execution_count": 31
        }
      ]
    },
    {
      "cell_type": "code",
      "source": [
        "from tensorflow.keras.utils import plot_model\n",
        "\n",
        "plot_model(model=model,show_shapes=True)"
      ],
      "metadata": {
        "colab": {
          "base_uri": "https://localhost:8080/",
          "height": 312
        },
        "id": "jhlnZhU_SPC8",
        "outputId": "23409329-faa4-44e3-b943-fd6527d06e30"
      },
      "execution_count": null,
      "outputs": [
        {
          "output_type": "execute_result",
          "data": {
            "text/plain": [
              "<IPython.core.display.Image object>"
            ],
            "image/png": "[encoded data removed]"
          },
          "metadata": {},
          "execution_count": 32
        }
      ]
    },
    {
      "cell_type": "markdown",
      "source": [
        "## Visualizing our Model Predection"
      ],
      "metadata": {
        "id": "NNTb-FEaVhwS"
      }
    },
    {
      "cell_type": "code",
      "source": [
        "y_preds = model.predict(X_test)"
      ],
      "metadata": {
        "id": "p_wFp0pkhTF-"
      },
      "execution_count": null,
      "outputs": []
    },
    {
      "cell_type": "code",
      "source": [
        "y_test"
      ],
      "metadata": {
        "colab": {
          "base_uri": "https://localhost:8080/"
        },
        "id": "qQJQOAqMhhIu",
        "outputId": "0bb4e332-3fba-4df3-ecb2-3e911b0a8f82"
      },
      "execution_count": null,
      "outputs": [
        {
          "output_type": "execute_result",
          "data": {
            "text/plain": [
              "<tf.Tensor: shape=(10,), dtype=int32, numpy=array([ 66, -42,  98, -22, 102,  26, -30,  58,  38,  82], dtype=int32)>"
            ]
          },
          "metadata": {},
          "execution_count": 34
        }
      ]
    },
    {
      "cell_type": "code",
      "source": [
        "def plot_pred(\n",
        "    train_data=X_train,\n",
        "    train_labels=y_train,\n",
        "    test_data=X_test,\n",
        "    test_labels=y_test,\n",
        "    predections=y_preds\n",
        "):\n",
        "  plt.figure(figsize=(10,6))\n",
        "\n",
        "  plt.scatter(train_data,train_labels,c=\"b\")\n",
        "\n",
        "  plt.scatter(test_data,test_labels,c=\"r\")\n",
        "\n",
        "  plt.scatter(test_data,predections,c=\"g\");\n",
        "\n",
        "plot_pred()"
      ],
      "metadata": {
        "colab": {
          "base_uri": "https://localhost:8080/",
          "height": 374
        },
        "id": "GgDGA_FghiLv",
        "outputId": "5aa196a0-bda7-4771-d08e-c3589d60fb07"
      },
      "execution_count": null,
      "outputs": [
        {
          "output_type": "display_data",
          "data": {
            "text/plain": [
              "<Figure size 720x432 with 1 Axes>"
            ],
            "image/png": "[encoded data removed]"
          },
          "metadata": {
            "needs_background": "light"
          }
        }
      ]
    },
    {
      "cell_type": "markdown",
      "source": [
        "## Evaluting our model predictions with regression Metrics"
      ],
      "metadata": {
        "id": "99TV5A8yhrve"
      }
    },
    {
      "cell_type": "code",
      "source": [
        "#Evaluate the model on test data\n",
        "model.evaluate(X_test,y_test)"
      ],
      "metadata": {
        "colab": {
          "base_uri": "https://localhost:8080/"
        },
        "id": "Kb60VIfklqxG",
        "outputId": "40695cf4-1007-4474-acc0-0c64b7f41793"
      },
      "execution_count": null,
      "outputs": [
        {
          "output_type": "stream",
          "name": "stdout",
          "text": [
            "1/1 [==============================] - 0s 92ms/step - loss: 41.9022 - mae: 41.9022\n"
          ]
        },
        {
          "output_type": "execute_result",
          "data": {
            "text/plain": [
              "[41.90217208862305, 41.90217208862305]"
            ]
          },
          "metadata": {},
          "execution_count": 36
        }
      ]
    },
    {
      "cell_type": "code",
      "source": [
        "tf.keras.metrics.mean_absolute_error(y_test,tf.squeeze(y_preds))"
      ],
      "metadata": {
        "colab": {
          "base_uri": "https://localhost:8080/"
        },
        "id": "sGE9Qlpyn82X",
        "outputId": "4cfcc7ea-9c4b-4a22-aa6a-6f5b79d21fda"
      },
      "execution_count": null,
      "outputs": [
        {
          "output_type": "execute_result",
          "data": {
            "text/plain": [
              "<tf.Tensor: shape=(), dtype=float32, numpy=41.902172>"
            ]
          },
          "metadata": {},
          "execution_count": 37
        }
      ]
    },
    {
      "cell_type": "code",
      "source": [
        "y_true = np.random.randint(0, 2, size=(2, 3))\n",
        "y_pred = np.random.random(size=(2, 3))\n",
        "loss = tf.keras.losses.mean_absolute_error(y_true, y_pred)\n",
        "y_true,y_pred"
      ],
      "metadata": {
        "colab": {
          "base_uri": "https://localhost:8080/"
        },
        "id": "QZUK2Q5foxvx",
        "outputId": "1d383381-dce2-46fd-8bb1-59ee89462217"
      },
      "execution_count": null,
      "outputs": [
        {
          "output_type": "execute_result",
          "data": {
            "text/plain": [
              "(array([[1, 0, 0],\n",
              "        [0, 1, 1]]), array([[0.77246721, 0.27502855, 0.51063652],\n",
              "        [0.77857389, 0.81824182, 0.93765313]]))"
            ]
          },
          "metadata": {},
          "execution_count": 38
        }
      ]
    },
    {
      "cell_type": "code",
      "source": [
        "# Calculating Mean Square Error\n",
        "tf.keras.metrics.mean_squared_error(y_test,tf.squeeze(y_preds))"
      ],
      "metadata": {
        "colab": {
          "base_uri": "https://localhost:8080/"
        },
        "id": "cYGQPGtvo7F1",
        "outputId": "5a6b3805-95f0-4580-ed58-363da793a936"
      },
      "execution_count": null,
      "outputs": [
        {
          "output_type": "execute_result",
          "data": {
            "text/plain": [
              "<tf.Tensor: shape=(), dtype=float32, numpy=2236.32>"
            ]
          },
          "metadata": {},
          "execution_count": 39
        }
      ]
    },
    {
      "cell_type": "code",
      "source": [
        "def mae(test_data=y_test,predection=y_preds):\n",
        "  \"\"\"\n",
        "  This Function Take the test_data which is true value and\n",
        "  predection data and returns back mean absolute error\n",
        "  \"\"\"\n",
        "  return tf.keras.metrics.mean_absolute_error(test_data,tf.squeeze(predection))\n",
        "\n",
        "def mse(test_data=y_test,predection=y_preds):\n",
        "  \"\"\"\n",
        "  This Function Take the test_data true value and\n",
        "  predection data and returns back mean squared error\n",
        "  \"\"\"\n",
        "  return tf.keras.metrics.mean_squared_error(test_data,tf.squeeze(predection))"
      ],
      "metadata": {
        "id": "5gD3fmJkqU_k"
      },
      "execution_count": null,
      "outputs": []
    },
    {
      "cell_type": "markdown",
      "source": [
        "## Saving our Model "
      ],
      "metadata": {
        "id": "a1K7_eIxpsTC"
      }
    },
    {
      "cell_type": "code",
      "source": [
        "# save model using saved model format\n",
        "\n",
        "model.save(\"best_model_saved_format\")"
      ],
      "metadata": {
        "colab": {
          "base_uri": "https://localhost:8080/"
        },
        "id": "Q03Fs3wnuByP",
        "outputId": "b410310c-ef03-45ef-c6a4-a0ed55aabcfa"
      },
      "execution_count": null,
      "outputs": [
        {
          "output_type": "stream",
          "name": "stdout",
          "text": [
            "INFO:tensorflow:Assets written to: best_model_saved_format/assets\n"
          ]
        }
      ]
    },
    {
      "cell_type": "code",
      "source": [
        "model.save(\"best_model_format.h5\")"
      ],
      "metadata": {
        "id": "gnX0UsQhu-_q"
      },
      "execution_count": null,
      "outputs": []
    },
    {
      "cell_type": "code",
      "source": [
        "model_saved_format = tf.keras.models.load_model('/content/best_model_saved_format')\n",
        "model_saved_format.summary()"
      ],
      "metadata": {
        "colab": {
          "base_uri": "https://localhost:8080/"
        },
        "id": "p8CpHGXovcMr",
        "outputId": "ed95840a-c86c-4ab3-e7db-2e7744305db3"
      },
      "execution_count": null,
      "outputs": [
        {
          "output_type": "stream",
          "name": "stdout",
          "text": [
            "Model: \"model_1\"\n",
            "_________________________________________________________________\n",
            " Layer (type)                Output Shape              Param #   \n",
            "=================================================================\n",
            " input_layer (Dense)         (None, 100)               200       \n",
            "                                                                 \n",
            " output_layer (Dense)        (None, 1)                 101       \n",
            "                                                                 \n",
            "=================================================================\n",
            "Total params: 301\n",
            "Trainable params: 301\n",
            "Non-trainable params: 0\n",
            "_________________________________________________________________\n"
          ]
        }
      ]
    },
    {
      "cell_type": "code",
      "source": [
        "y_preds=model.predict(X_test)\n",
        "y_saved_preds=model_saved_format.predict(X_test)"
      ],
      "metadata": {
        "id": "fJKRslz7v-9Q"
      },
      "execution_count": null,
      "outputs": []
    },
    {
      "cell_type": "code",
      "source": [
        "mae(y_test,y_preds),mae(y_test,y_saved_preds)"
      ],
      "metadata": {
        "colab": {
          "base_uri": "https://localhost:8080/"
        },
        "id": "_5ugCO9owKE9",
        "outputId": "d96cae02-c7f6-4ea0-e625-b2a204b7dd35"
      },
      "execution_count": null,
      "outputs": [
        {
          "output_type": "execute_result",
          "data": {
            "text/plain": [
              "(<tf.Tensor: shape=(), dtype=float32, numpy=41.902172>,\n",
              " <tf.Tensor: shape=(), dtype=float32, numpy=41.902172>)"
            ]
          },
          "metadata": {},
          "execution_count": 47
        }
      ]
    },
    {
      "cell_type": "markdown",
      "source": [
        "# A Large Example"
      ],
      "metadata": {
        "id": "xA2o8abhwf6_"
      }
    },
    {
      "cell_type": "code",
      "source": [
        "import pandas as pd\n",
        "import matplotlib.pyplot as plt\n",
        "import numpy as np\n",
        "import tensorflow as tf"
      ],
      "metadata": {
        "id": "HqveJxxSw8LT"
      },
      "execution_count": null,
      "outputs": []
    },
    {
      "cell_type": "code",
      "source": [
        "insurance_cost_df = pd.read_csv('https://raw.githubusercontent.com/stedy/Machine-Learning-with-R-datasets/master/insurance.csv',low_memory=False)"
      ],
      "metadata": {
        "id": "0B9iapSIxC84"
      },
      "execution_count": null,
      "outputs": []
    },
    {
      "cell_type": "code",
      "source": [
        "insurance_cost_df.head(10)"
      ],
      "metadata": {
        "colab": {
          "base_uri": "https://localhost:8080/",
          "height": 363
        },
        "id": "bsLKn_EaxXk9",
        "outputId": "fc89bb0c-98db-4291-98c1-f29c7096ceb0"
      },
      "execution_count": null,
      "outputs": [
        {
          "output_type": "execute_result",
          "data": {
            "text/plain": [
              "   age     sex     bmi  children smoker     region      charges\n",
              "0   19  female  27.900         0    yes  southwest  16884.92400\n",
              "1   18    male  33.770         1     no  southeast   1725.55230\n",
              "2   28    male  33.000         3     no  southeast   4449.46200\n",
              "3   33    male  22.705         0     no  northwest  21984.47061\n",
              "4   32    male  28.880         0     no  northwest   3866.85520\n",
              "5   31  female  25.740         0     no  southeast   3756.62160\n",
              "6   46  female  33.440         1     no  southeast   8240.58960\n",
              "7   37  female  27.740         3     no  northwest   7281.50560\n",
              "8   37    male  29.830         2     no  northeast   6406.41070\n",
              "9   60  female  25.840         0     no  northwest  28923.13692"
            ],
            "text/html": [
              "\n",
              "  <div id=\"df-391dfe34-5bcb-476c-bc2d-968880f66d38\">\n",
              "    <div class=\"colab-df-container\">\n",
              "      <div>\n",
              "<style scoped>\n",
              "    .dataframe tbody tr th:only-of-type {\n",
              "        vertical-align: middle;\n",
              "    }\n",
              "\n",
              "    .dataframe tbody tr th {\n",
              "        vertical-align: top;\n",
              "    }\n",
              "\n",
              "    .dataframe thead th {\n",
              "        text-align: right;\n",
              "    }\n",
              "</style>\n",
              "<table border=\"1\" class=\"dataframe\">\n",
              "  <thead>\n",
              "    <tr style=\"text-align: right;\">\n",
              "      <th></th>\n",
              "      <th>age</th>\n",
              "      <th>sex</th>\n",
              "      <th>bmi</th>\n",
              "      <th>children</th>\n",
              "      <th>smoker</th>\n",
              "      <th>region</th>\n",
              "      <th>charges</th>\n",
              "    </tr>\n",
              "  </thead>\n",
              "  <tbody>\n",
              "    <tr>\n",
              "      <th>0</th>\n",
              "      <td>19</td>\n",
              "      <td>female</td>\n",
              "      <td>27.900</td>\n",
              "      <td>0</td>\n",
              "      <td>yes</td>\n",
              "      <td>southwest</td>\n",
              "      <td>16884.92400</td>\n",
              "    </tr>\n",
              "    <tr>\n",
              "      <th>1</th>\n",
              "      <td>18</td>\n",
              "      <td>male</td>\n",
              "      <td>33.770</td>\n",
              "      <td>1</td>\n",
              "      <td>no</td>\n",
              "      <td>southeast</td>\n",
              "      <td>1725.55230</td>\n",
              "    </tr>\n",
              "    <tr>\n",
              "      <th>2</th>\n",
              "      <td>28</td>\n",
              "      <td>male</td>\n",
              "      <td>33.000</td>\n",
              "      <td>3</td>\n",
              "      <td>no</td>\n",
              "      <td>southeast</td>\n",
              "      <td>4449.46200</td>\n",
              "    </tr>\n",
              "    <tr>\n",
              "      <th>3</th>\n",
              "      <td>33</td>\n",
              "      <td>male</td>\n",
              "      <td>22.705</td>\n",
              "      <td>0</td>\n",
              "      <td>no</td>\n",
              "      <td>northwest</td>\n",
              "      <td>21984.47061</td>\n",
              "    </tr>\n",
              "    <tr>\n",
              "      <th>4</th>\n",
              "      <td>32</td>\n",
              "      <td>male</td>\n",
              "      <td>28.880</td>\n",
              "      <td>0</td>\n",
              "      <td>no</td>\n",
              "      <td>northwest</td>\n",
              "      <td>3866.85520</td>\n",
              "    </tr>\n",
              "    <tr>\n",
              "      <th>5</th>\n",
              "      <td>31</td>\n",
              "      <td>female</td>\n",
              "      <td>25.740</td>\n",
              "      <td>0</td>\n",
              "      <td>no</td>\n",
              "      <td>southeast</td>\n",
              "      <td>3756.62160</td>\n",
              "    </tr>\n",
              "    <tr>\n",
              "      <th>6</th>\n",
              "      <td>46</td>\n",
              "      <td>female</td>\n",
              "      <td>33.440</td>\n",
              "      <td>1</td>\n",
              "      <td>no</td>\n",
              "      <td>southeast</td>\n",
              "      <td>8240.58960</td>\n",
              "    </tr>\n",
              "    <tr>\n",
              "      <th>7</th>\n",
              "      <td>37</td>\n",
              "      <td>female</td>\n",
              "      <td>27.740</td>\n",
              "      <td>3</td>\n",
              "      <td>no</td>\n",
              "      <td>northwest</td>\n",
              "      <td>7281.50560</td>\n",
              "    </tr>\n",
              "    <tr>\n",
              "      <th>8</th>\n",
              "      <td>37</td>\n",
              "      <td>male</td>\n",
              "      <td>29.830</td>\n",
              "      <td>2</td>\n",
              "      <td>no</td>\n",
              "      <td>northeast</td>\n",
              "      <td>6406.41070</td>\n",
              "    </tr>\n",
              "    <tr>\n",
              "      <th>9</th>\n",
              "      <td>60</td>\n",
              "      <td>female</td>\n",
              "      <td>25.840</td>\n",
              "      <td>0</td>\n",
              "      <td>no</td>\n",
              "      <td>northwest</td>\n",
              "      <td>28923.13692</td>\n",
              "    </tr>\n",
              "  </tbody>\n",
              "</table>\n",
              "</div>\n",
              "      <button class=\"colab-df-convert\" onclick=\"convertToInteractive('df-391dfe34-5bcb-476c-bc2d-968880f66d38')\"\n",
              "              title=\"Convert this dataframe to an interactive table.\"\n",
              "              style=\"display:none;\">\n",
              "        \n",
              "  <svg xmlns=\"http://www.w3.org/2000/svg\" height=\"24px\"viewBox=\"0 0 24 24\"\n",
              "       width=\"24px\">\n",
              "    <path d=\"M0 0h24v24H0V0z\" fill=\"none\"/>\n",
              "    <path d=\"M18.56 5.44l.94 2.06.94-2.06 2.06-.94-2.06-.94-.94-2.06-.94 2.06-2.06.94zm-11 1L8.5 8.5l.94-2.06 2.06-.94-2.06-.94L8.5 2.5l-.94 2.06-2.06.94zm10 10l.94 2.06.94-2.06 2.06-.94-2.06-.94-.94-2.06-.94 2.06-2.06.94z\"/><path d=\"M17.41 7.96l-1.37-1.37c-.4-.4-.92-.59-1.43-.59-.52 0-1.04.2-1.43.59L10.3 9.45l-7.72 7.72c-.78.78-.78 2.05 0 2.83L4 21.41c.39.39.9.59 1.41.59.51 0 1.02-.2 1.41-.59l7.78-7.78 2.81-2.81c.8-.78.8-2.07 0-2.86zM5.41 20L4 18.59l7.72-7.72 1.47 1.35L5.41 20z\"/>\n",
              "  </svg>\n",
              "      </button>\n",
              "      \n",
              "  <style>\n",
              "    .colab-df-container {\n",
              "      display:flex;\n",
              "      flex-wrap:wrap;\n",
              "      gap: 12px;\n",
              "    }\n",
              "\n",
              "    .colab-df-convert {\n",
              "      background-color: #E8F0FE;\n",
              "      border: none;\n",
              "      border-radius: 50%;\n",
              "      cursor: pointer;\n",
              "      display: none;\n",
              "      fill: #1967D2;\n",
              "      height: 32px;\n",
              "      padding: 0 0 0 0;\n",
              "      width: 32px;\n",
              "    }\n",
              "\n",
              "    .colab-df-convert:hover {\n",
              "      background-color: #E2EBFA;\n",
              "      box-shadow: 0px 1px 2px rgba(60, 64, 67, 0.3), 0px 1px 3px 1px rgba(60, 64, 67, 0.15);\n",
              "      fill: #174EA6;\n",
              "    }\n",
              "\n",
              "    [theme=dark] .colab-df-convert {\n",
              "      background-color: #3B4455;\n",
              "      fill: #D2E3FC;\n",
              "    }\n",
              "\n",
              "    [theme=dark] .colab-df-convert:hover {\n",
              "      background-color: #434B5C;\n",
              "      box-shadow: 0px 1px 3px 1px rgba(0, 0, 0, 0.15);\n",
              "      filter: drop-shadow(0px 1px 2px rgba(0, 0, 0, 0.3));\n",
              "      fill: #FFFFFF;\n",
              "    }\n",
              "  </style>\n",
              "\n",
              "      <script>\n",
              "        const buttonEl =\n",
              "          document.querySelector('#df-391dfe34-5bcb-476c-bc2d-968880f66d38 button.colab-df-convert');\n",
              "        buttonEl.style.display =\n",
              "          google.colab.kernel.accessAllowed ? 'block' : 'none';\n",
              "\n",
              "        async function convertToInteractive(key) {\n",
              "          const element = document.querySelector('#df-391dfe34-5bcb-476c-bc2d-968880f66d38');\n",
              "          const dataTable =\n",
              "            await google.colab.kernel.invokeFunction('convertToInteractive',\n",
              "                                                     [key], {});\n",
              "          if (!dataTable) return;\n",
              "\n",
              "          const docLinkHtml = 'Like what you see? Visit the ' +\n",
              "            '<a target=\"_blank\" href=https://colab.research.google.com/notebooks/data_table.ipynb>data table notebook</a>'\n",
              "            + ' to learn more about interactive tables.';\n",
              "          element.innerHTML = '';\n",
              "          dataTable['output_type'] = 'display_data';\n",
              "          await google.colab.output.renderOutput(dataTable, element);\n",
              "          const docLink = document.createElement('div');\n",
              "          docLink.innerHTML = docLinkHtml;\n",
              "          element.appendChild(docLink);\n",
              "        }\n",
              "      </script>\n",
              "    </div>\n",
              "  </div>\n",
              "  "
            ]
          },
          "metadata": {},
          "execution_count": 53
        }
      ]
    },
    {
      "cell_type": "code",
      "source": [
        "insurance_cost_df['sex'].replace({'female':0,'male':1},inplace=True)\n",
        "insurance_cost_df['smoker'].replace({'yes':0,'no':1},inplace=True)\n",
        "insurance_cost_df['region'].replace({'southwest':0,'southeast':1,'northwest':2,'northeast':3},inplace=True)"
      ],
      "metadata": {
        "id": "SKPW6Es2yHpR"
      },
      "execution_count": null,
      "outputs": []
    },
    {
      "cell_type": "code",
      "source": [
        "X = insurance_cost_df.drop(columns=['charges'])\n",
        "y = insurance_cost_df['charges']"
      ],
      "metadata": {
        "id": "p13DuMylyovv"
      },
      "execution_count": null,
      "outputs": []
    },
    {
      "cell_type": "code",
      "source": [
        "X.head(10)"
      ],
      "metadata": {
        "colab": {
          "base_uri": "https://localhost:8080/",
          "height": 363
        },
        "id": "s5Ryy7RqysLT",
        "outputId": "019607e6-1f8a-4aef-95d4-1e6e217a0fc9"
      },
      "execution_count": null,
      "outputs": [
        {
          "output_type": "execute_result",
          "data": {
            "text/plain": [
              "   age  sex     bmi  children  smoker  region\n",
              "0   19    0  27.900         0       0       0\n",
              "1   18    1  33.770         1       1       1\n",
              "2   28    1  33.000         3       1       1\n",
              "3   33    1  22.705         0       1       2\n",
              "4   32    1  28.880         0       1       2\n",
              "5   31    0  25.740         0       1       1\n",
              "6   46    0  33.440         1       1       1\n",
              "7   37    0  27.740         3       1       2\n",
              "8   37    1  29.830         2       1       3\n",
              "9   60    0  25.840         0       1       2"
            ],
            "text/html": [
              "\n",
              "  <div id=\"df-aeaadaa4-982d-43ac-93e6-ed9e151de864\">\n",
              "    <div class=\"colab-df-container\">\n",
              "      <div>\n",
              "<style scoped>\n",
              "    .dataframe tbody tr th:only-of-type {\n",
              "        vertical-align: middle;\n",
              "    }\n",
              "\n",
              "    .dataframe tbody tr th {\n",
              "        vertical-align: top;\n",
              "    }\n",
              "\n",
              "    .dataframe thead th {\n",
              "        text-align: right;\n",
              "    }\n",
              "</style>\n",
              "<table border=\"1\" class=\"dataframe\">\n",
              "  <thead>\n",
              "    <tr style=\"text-align: right;\">\n",
              "      <th></th>\n",
              "      <th>age</th>\n",
              "      <th>sex</th>\n",
              "      <th>bmi</th>\n",
              "      <th>children</th>\n",
              "      <th>smoker</th>\n",
              "      <th>region</th>\n",
              "    </tr>\n",
              "  </thead>\n",
              "  <tbody>\n",
              "    <tr>\n",
              "      <th>0</th>\n",
              "      <td>19</td>\n",
              "      <td>0</td>\n",
              "      <td>27.900</td>\n",
              "      <td>0</td>\n",
              "      <td>0</td>\n",
              "      <td>0</td>\n",
              "    </tr>\n",
              "    <tr>\n",
              "      <th>1</th>\n",
              "      <td>18</td>\n",
              "      <td>1</td>\n",
              "      <td>33.770</td>\n",
              "      <td>1</td>\n",
              "      <td>1</td>\n",
              "      <td>1</td>\n",
              "    </tr>\n",
              "    <tr>\n",
              "      <th>2</th>\n",
              "      <td>28</td>\n",
              "      <td>1</td>\n",
              "      <td>33.000</td>\n",
              "      <td>3</td>\n",
              "      <td>1</td>\n",
              "      <td>1</td>\n",
              "    </tr>\n",
              "    <tr>\n",
              "      <th>3</th>\n",
              "      <td>33</td>\n",
              "      <td>1</td>\n",
              "      <td>22.705</td>\n",
              "      <td>0</td>\n",
              "      <td>1</td>\n",
              "      <td>2</td>\n",
              "    </tr>\n",
              "    <tr>\n",
              "      <th>4</th>\n",
              "      <td>32</td>\n",
              "      <td>1</td>\n",
              "      <td>28.880</td>\n",
              "      <td>0</td>\n",
              "      <td>1</td>\n",
              "      <td>2</td>\n",
              "    </tr>\n",
              "    <tr>\n",
              "      <th>5</th>\n",
              "      <td>31</td>\n",
              "      <td>0</td>\n",
              "      <td>25.740</td>\n",
              "      <td>0</td>\n",
              "      <td>1</td>\n",
              "      <td>1</td>\n",
              "    </tr>\n",
              "    <tr>\n",
              "      <th>6</th>\n",
              "      <td>46</td>\n",
              "      <td>0</td>\n",
              "      <td>33.440</td>\n",
              "      <td>1</td>\n",
              "      <td>1</td>\n",
              "      <td>1</td>\n",
              "    </tr>\n",
              "    <tr>\n",
              "      <th>7</th>\n",
              "      <td>37</td>\n",
              "      <td>0</td>\n",
              "      <td>27.740</td>\n",
              "      <td>3</td>\n",
              "      <td>1</td>\n",
              "      <td>2</td>\n",
              "    </tr>\n",
              "    <tr>\n",
              "      <th>8</th>\n",
              "      <td>37</td>\n",
              "      <td>1</td>\n",
              "      <td>29.830</td>\n",
              "      <td>2</td>\n",
              "      <td>1</td>\n",
              "      <td>3</td>\n",
              "    </tr>\n",
              "    <tr>\n",
              "      <th>9</th>\n",
              "      <td>60</td>\n",
              "      <td>0</td>\n",
              "      <td>25.840</td>\n",
              "      <td>0</td>\n",
              "      <td>1</td>\n",
              "      <td>2</td>\n",
              "    </tr>\n",
              "  </tbody>\n",
              "</table>\n",
              "</div>\n",
              "      <button class=\"colab-df-convert\" onclick=\"convertToInteractive('df-aeaadaa4-982d-43ac-93e6-ed9e151de864')\"\n",
              "              title=\"Convert this dataframe to an interactive table.\"\n",
              "              style=\"display:none;\">\n",
              "        \n",
              "  <svg xmlns=\"http://www.w3.org/2000/svg\" height=\"24px\"viewBox=\"0 0 24 24\"\n",
              "       width=\"24px\">\n",
              "    <path d=\"M0 0h24v24H0V0z\" fill=\"none\"/>\n",
              "    <path d=\"M18.56 5.44l.94 2.06.94-2.06 2.06-.94-2.06-.94-.94-2.06-.94 2.06-2.06.94zm-11 1L8.5 8.5l.94-2.06 2.06-.94-2.06-.94L8.5 2.5l-.94 2.06-2.06.94zm10 10l.94 2.06.94-2.06 2.06-.94-2.06-.94-.94-2.06-.94 2.06-2.06.94z\"/><path d=\"M17.41 7.96l-1.37-1.37c-.4-.4-.92-.59-1.43-.59-.52 0-1.04.2-1.43.59L10.3 9.45l-7.72 7.72c-.78.78-.78 2.05 0 2.83L4 21.41c.39.39.9.59 1.41.59.51 0 1.02-.2 1.41-.59l7.78-7.78 2.81-2.81c.8-.78.8-2.07 0-2.86zM5.41 20L4 18.59l7.72-7.72 1.47 1.35L5.41 20z\"/>\n",
              "  </svg>\n",
              "      </button>\n",
              "      \n",
              "  <style>\n",
              "    .colab-df-container {\n",
              "      display:flex;\n",
              "      flex-wrap:wrap;\n",
              "      gap: 12px;\n",
              "    }\n",
              "\n",
              "    .colab-df-convert {\n",
              "      background-color: #E8F0FE;\n",
              "      border: none;\n",
              "      border-radius: 50%;\n",
              "      cursor: pointer;\n",
              "      display: none;\n",
              "      fill: #1967D2;\n",
              "      height: 32px;\n",
              "      padding: 0 0 0 0;\n",
              "      width: 32px;\n",
              "    }\n",
              "\n",
              "    .colab-df-convert:hover {\n",
              "      background-color: #E2EBFA;\n",
              "      box-shadow: 0px 1px 2px rgba(60, 64, 67, 0.3), 0px 1px 3px 1px rgba(60, 64, 67, 0.15);\n",
              "      fill: #174EA6;\n",
              "    }\n",
              "\n",
              "    [theme=dark] .colab-df-convert {\n",
              "      background-color: #3B4455;\n",
              "      fill: #D2E3FC;\n",
              "    }\n",
              "\n",
              "    [theme=dark] .colab-df-convert:hover {\n",
              "      background-color: #434B5C;\n",
              "      box-shadow: 0px 1px 3px 1px rgba(0, 0, 0, 0.15);\n",
              "      filter: drop-shadow(0px 1px 2px rgba(0, 0, 0, 0.3));\n",
              "      fill: #FFFFFF;\n",
              "    }\n",
              "  </style>\n",
              "\n",
              "      <script>\n",
              "        const buttonEl =\n",
              "          document.querySelector('#df-aeaadaa4-982d-43ac-93e6-ed9e151de864 button.colab-df-convert');\n",
              "        buttonEl.style.display =\n",
              "          google.colab.kernel.accessAllowed ? 'block' : 'none';\n",
              "\n",
              "        async function convertToInteractive(key) {\n",
              "          const element = document.querySelector('#df-aeaadaa4-982d-43ac-93e6-ed9e151de864');\n",
              "          const dataTable =\n",
              "            await google.colab.kernel.invokeFunction('convertToInteractive',\n",
              "                                                     [key], {});\n",
              "          if (!dataTable) return;\n",
              "\n",
              "          const docLinkHtml = 'Like what you see? Visit the ' +\n",
              "            '<a target=\"_blank\" href=https://colab.research.google.com/notebooks/data_table.ipynb>data table notebook</a>'\n",
              "            + ' to learn more about interactive tables.';\n",
              "          element.innerHTML = '';\n",
              "          dataTable['output_type'] = 'display_data';\n",
              "          await google.colab.output.renderOutput(dataTable, element);\n",
              "          const docLink = document.createElement('div');\n",
              "          docLink.innerHTML = docLinkHtml;\n",
              "          element.appendChild(docLink);\n",
              "        }\n",
              "      </script>\n",
              "    </div>\n",
              "  </div>\n",
              "  "
            ]
          },
          "metadata": {},
          "execution_count": 66
        }
      ]
    },
    {
      "cell_type": "code",
      "source": [
        "y.head(5)"
      ],
      "metadata": {
        "colab": {
          "base_uri": "https://localhost:8080/"
        },
        "id": "YGSJ7WaEzsez",
        "outputId": "8ad9de55-ac24-4c7f-bb3d-d99118801d39"
      },
      "execution_count": null,
      "outputs": [
        {
          "output_type": "execute_result",
          "data": {
            "text/plain": [
              "0    16884.92400\n",
              "1     1725.55230\n",
              "2     4449.46200\n",
              "3    21984.47061\n",
              "4     3866.85520\n",
              "Name: charges, dtype: float64"
            ]
          },
          "metadata": {},
          "execution_count": 67
        }
      ]
    },
    {
      "cell_type": "code",
      "source": [
        "from sklearn.model_selection import train_test_split\n",
        "X_train,X_test,y_train,y_test=train_test_split(X,y,test_size=0.2,random_state=0)"
      ],
      "metadata": {
        "id": "feqqn0_xzywW"
      },
      "execution_count": null,
      "outputs": []
    },
    {
      "cell_type": "code",
      "source": [
        "model = tf.keras.Sequential([\n",
        "  tf.keras.layers.Dense(100),\n",
        "  tf.keras.layers.Dense(100),\n",
        "  tf.keras.layers.Dense(100),\n",
        "  tf.keras.layers.Dense(100),\n",
        "  tf.keras.layers.Dense(1)\n",
        "])\n",
        "\n",
        "model.compile(loss=tf.keras.losses.mae,\n",
        "              optimizer=tf.keras.optimizers.Adam(learning_rate=0.001),\n",
        "              metrics=['mae'])\n",
        "\n",
        "model.fit(tf.expand_dims(X_train,axis=-1),y_train,epochs=3500,verbose=0)"
      ],
      "metadata": {
        "colab": {
          "base_uri": "https://localhost:8080/"
        },
        "id": "mFJUIyhK0KrG",
        "outputId": "395ce7a7-a7d2-4990-e903-be9c85f9b9a0"
      },
      "execution_count": null,
      "outputs": [
        {
          "output_type": "execute_result",
          "data": {
            "text/plain": [
              "<keras.callbacks.History at 0x7f041a466dd0>"
            ]
          },
          "metadata": {},
          "execution_count": 92
        }
      ]
    },
    {
      "cell_type": "code",
      "source": [
        "y_preds=model.predict(X_test)"
      ],
      "metadata": {
        "id": "hI7922Sl1LYe"
      },
      "execution_count": null,
      "outputs": []
    },
    {
      "cell_type": "code",
      "source": [
        "tf.squeeze(y_preds)"
      ],
      "metadata": {
        "colab": {
          "base_uri": "https://localhost:8080/"
        },
        "id": "qgfSa6QG1V9e",
        "outputId": "d2e795ff-2f51-423b-e20c-92cc738c098f"
      },
      "execution_count": null,
      "outputs": [
        {
          "output_type": "execute_result",
          "data": {
            "text/plain": [
              "<tf.Tensor: shape=(268, 6), dtype=float32, numpy=\n",
              "array([[4668.0464, 8479.083 , 6297.0776, 8479.083 , 8479.083 , 8553.808 ],\n",
              "       [5041.6777, 8553.808 , 6359.1   , 8479.083 , 8479.083 , 8479.083 ],\n",
              "       [4966.952 , 8479.083 , 5522.5405, 8404.356 , 8553.808 , 8404.356 ],\n",
              "       ...,\n",
              "       [4294.416 , 8479.083 , 5543.838 , 8553.808 , 8479.083 , 8329.63  ],\n",
              "       [6312.0234, 8553.808 , 5635.7505, 8329.63  , 8553.808 , 8479.083 ],\n",
              "       [5116.404 , 8479.083 , 6700.9727, 8329.63  , 8479.083 , 8329.63  ]],\n",
              "      dtype=float32)>"
            ]
          },
          "metadata": {},
          "execution_count": 76
        }
      ]
    },
    {
      "cell_type": "code",
      "source": [
        "model.evaluate(X_test,y_test)"
      ],
      "metadata": {
        "colab": {
          "base_uri": "https://localhost:8080/"
        },
        "id": "SK1-7I_D2INw",
        "outputId": "8d86ed0c-59a1-4e16-bd61-d2ce2044c795"
      },
      "execution_count": null,
      "outputs": [
        {
          "output_type": "stream",
          "name": "stdout",
          "text": [
            "9/9 [==============================] - 0s 3ms/step - loss: 8588.5938 - mae: 8588.5938\n"
          ]
        },
        {
          "output_type": "execute_result",
          "data": {
            "text/plain": [
              "[8588.59375, 8588.59375]"
            ]
          },
          "metadata": {},
          "execution_count": 93
        }
      ]
    },
    {
      "cell_type": "code",
      "source": [
        ""
      ],
      "metadata": {
        "id": "QUm9btBB1zkU"
      },
      "execution_count": null,
      "outputs": []
    },
    {
      "cell_type": "code",
      "source": [
        ""
      ],
      "metadata": {
        "id": "GETZ6Qzs2pm1"
      },
      "execution_count": null,
      "outputs": []
    }
  ]
}