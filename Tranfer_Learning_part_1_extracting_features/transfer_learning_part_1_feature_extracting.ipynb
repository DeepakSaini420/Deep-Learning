{
  "nbformat": 4,
  "nbformat_minor": 0,
  "metadata": {
    "colab": {
      "name": "transfer-learning-part-1-feature-extracting",
      "provenance": []
    },
    "kernelspec": {
      "name": "python3",
      "display_name": "Python 3"
    },
    "language_info": {
      "name": "python"
    },
    "gpuClass": "standard",
    "accelerator": "GPU"
  },
  "cells": [
    {
      "cell_type": "markdown",
      "source": [
        "# Transfer Learning Part 1: Feature Extraction\n",
        "\n",
        "Transfer Learning is leavragin a working model exesting artitechture and learn pattrens for our problem.\n",
        "\n",
        "There are Two main Benefits:\n",
        "1. Can levrage our neural network architecture proven to work on problem similar to our own.\n",
        "2. Can levrage a working nueral network architecture which has already learned patterns on similar data so we can adpat that pattren to our data\n"
      ],
      "metadata": {
        "id": "gZR04oBjc8Xg"
      }
    },
    {
      "cell_type": "code",
      "source": [
        "!nvidia-smi"
      ],
      "metadata": {
        "colab": {
          "base_uri": "https://localhost:8080/"
        },
        "id": "AM4GFCX_mc_R",
        "outputId": "ae12eb0c-7ed1-45be-afde-bb73165b17ab"
      },
      "execution_count": null,
      "outputs": [
        {
          "output_type": "stream",
          "name": "stdout",
          "text": [
            "Mon Jul 11 05:05:04 2022       \n",
            "+-----------------------------------------------------------------------------+\n",
            "| NVIDIA-SMI 460.32.03    Driver Version: 460.32.03    CUDA Version: 11.2     |\n",
            "|-------------------------------+----------------------+----------------------+\n",
            "| GPU  Name        Persistence-M| Bus-Id        Disp.A | Volatile Uncorr. ECC |\n",
            "| Fan  Temp  Perf  Pwr:Usage/Cap|         Memory-Usage | GPU-Util  Compute M. |\n",
            "|                               |                      |               MIG M. |\n",
            "|===============================+======================+======================|\n",
            "|   0  Tesla T4            Off  | 00000000:00:04.0 Off |                    0 |\n",
            "| N/A   53C    P8    10W /  70W |      0MiB / 15109MiB |      0%      Default |\n",
            "|                               |                      |                  N/A |\n",
            "+-------------------------------+----------------------+----------------------+\n",
            "                                                                               \n",
            "+-----------------------------------------------------------------------------+\n",
            "| Processes:                                                                  |\n",
            "|  GPU   GI   CI        PID   Type   Process name                  GPU Memory |\n",
            "|        ID   ID                                                   Usage      |\n",
            "|=============================================================================|\n",
            "|  No running processes found                                                 |\n",
            "+-----------------------------------------------------------------------------+\n"
          ]
        }
      ]
    },
    {
      "cell_type": "markdown",
      "source": [
        "## Downloading and becoming one with data"
      ],
      "metadata": {
        "id": "qQIYWfAumo2p"
      }
    },
    {
      "cell_type": "code",
      "source": [
        "!wget https://storage.googleapis.com/ztm_tf_course/food_vision/10_food_classes_10_percent.zip"
      ],
      "metadata": {
        "colab": {
          "base_uri": "https://localhost:8080/"
        },
        "id": "snRNzhAFmzip",
        "outputId": "c543d245-bf88-45b9-b363-15db3acac468"
      },
      "execution_count": null,
      "outputs": [
        {
          "output_type": "stream",
          "name": "stdout",
          "text": [
            "--2022-07-11 05:05:05--  https://storage.googleapis.com/ztm_tf_course/food_vision/10_food_classes_10_percent.zip\n",
            "Resolving storage.googleapis.com (storage.googleapis.com)... 74.125.68.128, 74.125.24.128, 142.251.10.128, ...\n",
            "Connecting to storage.googleapis.com (storage.googleapis.com)|74.125.68.128|:443... connected.\n",
            "HTTP request sent, awaiting response... 200 OK\n",
            "Length: 168546183 (161M) [application/zip]\n",
            "Saving to: ‘10_food_classes_10_percent.zip’\n",
            "\n",
            "10_food_classes_10_ 100%[===================>] 160.74M  64.4MB/s    in 2.5s    \n",
            "\n",
            "2022-07-11 05:05:09 (64.4 MB/s) - ‘10_food_classes_10_percent.zip’ saved [168546183/168546183]\n",
            "\n"
          ]
        }
      ]
    },
    {
      "cell_type": "code",
      "source": [
        "import zipfile\n",
        "zipref = zipfile.ZipFile('/content/10_food_classes_10_percent.zip')\n",
        "zipref.extractall()\n",
        "zipref.close()"
      ],
      "metadata": {
        "id": "H5viKNccm-la"
      },
      "execution_count": null,
      "outputs": []
    },
    {
      "cell_type": "code",
      "source": [
        "import os\n",
        "\n",
        "for dirpath,dirname,filenames in os.walk(\"10_food_classes_10_percent\"):\n",
        "  print(f\"There are {len(dirname)} directories and {len(filenames)} images in '{dirpath}'.\")"
      ],
      "metadata": {
        "colab": {
          "base_uri": "https://localhost:8080/"
        },
        "id": "crsNw2mlnJA6",
        "outputId": "47f1a277-3193-48c2-bd67-393af781d010"
      },
      "execution_count": null,
      "outputs": [
        {
          "output_type": "stream",
          "name": "stdout",
          "text": [
            "There are 2 directories and 0 images in '10_food_classes_10_percent'.\n",
            "There are 10 directories and 0 images in '10_food_classes_10_percent/test'.\n",
            "There are 0 directories and 250 images in '10_food_classes_10_percent/test/ramen'.\n",
            "There are 0 directories and 250 images in '10_food_classes_10_percent/test/fried_rice'.\n",
            "There are 0 directories and 250 images in '10_food_classes_10_percent/test/chicken_curry'.\n",
            "There are 0 directories and 250 images in '10_food_classes_10_percent/test/chicken_wings'.\n",
            "There are 0 directories and 250 images in '10_food_classes_10_percent/test/grilled_salmon'.\n",
            "There are 0 directories and 250 images in '10_food_classes_10_percent/test/ice_cream'.\n",
            "There are 0 directories and 250 images in '10_food_classes_10_percent/test/sushi'.\n",
            "There are 0 directories and 250 images in '10_food_classes_10_percent/test/pizza'.\n",
            "There are 0 directories and 250 images in '10_food_classes_10_percent/test/steak'.\n",
            "There are 0 directories and 250 images in '10_food_classes_10_percent/test/hamburger'.\n",
            "There are 10 directories and 0 images in '10_food_classes_10_percent/train'.\n",
            "There are 0 directories and 75 images in '10_food_classes_10_percent/train/ramen'.\n",
            "There are 0 directories and 75 images in '10_food_classes_10_percent/train/fried_rice'.\n",
            "There are 0 directories and 75 images in '10_food_classes_10_percent/train/chicken_curry'.\n",
            "There are 0 directories and 75 images in '10_food_classes_10_percent/train/chicken_wings'.\n",
            "There are 0 directories and 75 images in '10_food_classes_10_percent/train/grilled_salmon'.\n",
            "There are 0 directories and 75 images in '10_food_classes_10_percent/train/ice_cream'.\n",
            "There are 0 directories and 75 images in '10_food_classes_10_percent/train/sushi'.\n",
            "There are 0 directories and 75 images in '10_food_classes_10_percent/train/pizza'.\n",
            "There are 0 directories and 75 images in '10_food_classes_10_percent/train/steak'.\n",
            "There are 0 directories and 75 images in '10_food_classes_10_percent/train/hamburger'.\n"
          ]
        }
      ]
    },
    {
      "cell_type": "markdown",
      "source": [
        "## Create Some Data Loaders\n",
        "\n",
        "We will use ImageDataGenrator"
      ],
      "metadata": {
        "id": "CaSR8RSen0rK"
      }
    },
    {
      "cell_type": "code",
      "source": [
        "from tensorflow.keras.preprocessing.image import ImageDataGenerator\n",
        "\n",
        "IMAGE_SHAPE = (224,224)\n",
        "BATCH_SIZE = 2\n",
        "\n",
        "train_dir = '10_food_classes_10_percent/train/'\n",
        "test_dir = '10_food_classes_10_percent/test/'\n",
        "\n",
        "train_datagen = ImageDataGenerator(rescale=1/225.)\n",
        "test_datagen = ImageDataGenerator(rescale=1/225.)\n",
        "\n",
        "print('Trainig Images:')\n",
        "train_data_10_percent = train_datagen.flow_from_directory(directory=train_dir,\n",
        "                                                          batch_size=BATCH_SIZE,\n",
        "                                                          target_size=IMAGE_SHAPE,\n",
        "                                                          class_mode='categorical')\n",
        "\n",
        "\n",
        "print('Testing Images:')\n",
        "test_data_10_percent = train_datagen.flow_from_directory(directory=test_dir,\n",
        "                                                          batch_size=BATCH_SIZE,\n",
        "                                                          target_size=IMAGE_SHAPE,\n",
        "                                                          class_mode='categorical')"
      ],
      "metadata": {
        "colab": {
          "base_uri": "https://localhost:8080/"
        },
        "id": "do7bv1W7oSmh",
        "outputId": "2ba7f001-3b5e-4310-8d5b-8befb91481f0"
      },
      "execution_count": null,
      "outputs": [
        {
          "output_type": "stream",
          "name": "stdout",
          "text": [
            "Trainig Images:\n",
            "Found 750 images belonging to 10 classes.\n",
            "Testing Images:\n",
            "Found 2500 images belonging to 10 classes.\n"
          ]
        }
      ]
    },
    {
      "cell_type": "markdown",
      "source": [
        "## Setting Up CallBack (things to run whilst our model train)\n",
        "\n",
        "callback's are extra functionality you can add to your models to be performed during or after training. Some of the most callbacks:\n",
        "\n",
        "* Tracking experiments with the tenserboard callback\n",
        "* Model Checkpoint with ModelCheckPoint callback\n",
        "* Stopping model for training (before it's to long and overfits) with the EarlyStopping callback"
      ],
      "metadata": {
        "id": "_XKUyKcTpeRa"
      }
    },
    {
      "cell_type": "code",
      "source": [
        "import datetime\n",
        "import tensorflow as tf\n",
        "\n",
        "def create_tensorboard_callback(dir_name,experiment_name):\n",
        "  log_dir = dir_name + \"/\" + experiment_name + \"/\" + datetime.datetime.now().strftime(\"%Y%m%d-%H%M%S\")\n",
        "  tansorboard_callback = tf.keras.callbacks.TensorBoard(log_dir=log_dir)\n",
        "  print(f\"Saving Tensorboard to log dir : {log_dir}\")\n",
        "  return tansorboard_callback"
      ],
      "metadata": {
        "id": "VXhvgoYIt1u5"
      },
      "execution_count": null,
      "outputs": []
    },
    {
      "cell_type": "markdown",
      "source": [
        "## Creating Model Using TensorFlow Hub\n",
        "\n",
        "We are going to make a Model By Using transfer learning with use of tensorflow hub"
      ],
      "metadata": {
        "id": "dTSI_YI1wS4_"
      }
    },
    {
      "cell_type": "code",
      "source": [
        "efficent_net_url=\"https://tfhub.dev/google/efficientnet/b0/feature-vector/1\"\n",
        "resnet_url = \"https://tfhub.dev/google/imagenet/resnet_v2_50/classification/5\"\n",
        "\n",
        "import tensorflow_hub as hub\n",
        "import tensorflow as tf\n",
        "from tensorflow.keras import layers"
      ],
      "metadata": {
        "id": "sQZOorxcwnw2"
      },
      "execution_count": null,
      "outputs": []
    },
    {
      "cell_type": "code",
      "source": [
        "def create_model(model_url,num_classes=10):\n",
        "\n",
        "  feature_extract_layer = hub.KerasLayer(model_url,\n",
        "                                         trainable=False,\n",
        "                                         name=\"feature_extraction_layer\",\n",
        "                                         input_shape=IMAGE_SHAPE+(3,))\n",
        "\n",
        "  model = tf.keras.Sequential([\n",
        "    feature_extract_layer,\n",
        "    layers.Dense(num_classes,activation=\"softmax\",name=\"output_layer\")\n",
        "  ])\n",
        "\n",
        "  return model"
      ],
      "metadata": {
        "id": "iDasXmBP7vdS"
      },
      "execution_count": null,
      "outputs": []
    },
    {
      "cell_type": "code",
      "source": [
        "# Create resnet model\n",
        "\n",
        "resnet_model=create_model(resnet_url)"
      ],
      "metadata": {
        "id": "sizNwobK8j0N"
      },
      "execution_count": null,
      "outputs": []
    },
    {
      "cell_type": "code",
      "source": [
        "resnet_model.compile(loss=tf.keras.losses.CategoricalCrossentropy(),\n",
        "                     optimizer=tf.keras.optimizers.Adam(),\n",
        "                     metrics=['accuracy'])\n"
      ],
      "metadata": {
        "id": "JKNGEM5k8wPb"
      },
      "execution_count": null,
      "outputs": []
    },
    {
      "cell_type": "code",
      "source": [
        "resnet_hist = resnet_model.fit(train_data_10_percent,\n",
        "                 epochs=6,\n",
        "                 steps_per_epoch=len(train_data_10_percent),\n",
        "                 validation_data=test_data_10_percent,\n",
        "                 validation_steps=len(train_data_10_percent),\n",
        "                 callbacks=[create_tensorboard_callback(dir_name='tensorflow_hub',experiment_name='resnet50V2')])"
      ],
      "metadata": {
        "colab": {
          "base_uri": "https://localhost:8080/"
        },
        "id": "7OfTo_vR9FJN",
        "outputId": "4f44490c-b293-472c-ece6-0f7d6bbf1563"
      },
      "execution_count": null,
      "outputs": [
        {
          "output_type": "stream",
          "name": "stdout",
          "text": [
            "Saving Tensorboard to log dir : tensorflow_hub/resnet50V2/20220711-050523\n",
            "Epoch 1/6\n",
            "375/375 [==============================] - 27s 31ms/step - loss: 1.6204 - accuracy: 0.5560 - val_loss: 0.8574 - val_accuracy: 0.7267\n",
            "Epoch 2/6\n",
            "375/375 [==============================] - 16s 43ms/step - loss: 0.6519 - accuracy: 0.7813 - val_loss: 0.8473 - val_accuracy: 0.7347\n",
            "Epoch 3/6\n",
            "375/375 [==============================] - 11s 29ms/step - loss: 0.3969 - accuracy: 0.8653 - val_loss: 0.7984 - val_accuracy: 0.7453\n",
            "Epoch 4/6\n",
            "375/375 [==============================] - 16s 43ms/step - loss: 0.2699 - accuracy: 0.9160 - val_loss: 0.7787 - val_accuracy: 0.7813\n",
            "Epoch 5/6\n",
            "375/375 [==============================] - 11s 30ms/step - loss: 0.1725 - accuracy: 0.9427 - val_loss: 1.0082 - val_accuracy: 0.7280\n",
            "Epoch 6/6\n",
            "375/375 [==============================] - 16s 43ms/step - loss: 0.1297 - accuracy: 0.9613 - val_loss: 0.9540 - val_accuracy: 0.7413\n"
          ]
        }
      ]
    },
    {
      "cell_type": "code",
      "source": [
        "import matplotlib.pyplot as plt\n",
        "def plot_loss_curves(history):\n",
        "\n",
        "  loss = history.history['loss']\n",
        "  val_loss = history.history['val_loss']\n",
        "\n",
        "  accuracy = history.history['accuracy']\n",
        "  val_accuracy = history.history['val_accuracy']\n",
        "\n",
        "  epochs = range(len(history.history['loss']))\n",
        "\n",
        "  plt.figure()\n",
        "  plt.plot(epochs,loss,label='loss')\n",
        "  plt.plot(epochs,val_loss,label='val_loss')\n",
        "  plt.legend();\n",
        "\n",
        "  plt.figure()\n",
        "  plt.plot(epochs,accuracy,label='loss')\n",
        "  plt.plot(epochs,val_accuracy,label='val_loss')\n",
        "  plt.legend();\n",
        "  "
      ],
      "metadata": {
        "id": "9Qin2Vag9486"
      },
      "execution_count": null,
      "outputs": []
    },
    {
      "cell_type": "code",
      "source": [
        "plot_loss_curves(resnet_hist)"
      ],
      "metadata": {
        "colab": {
          "base_uri": "https://localhost:8080/",
          "height": 513
        },
        "id": "Iq2JpXjeZOb_",
        "outputId": "8a50cbf5-9e9d-4912-c0d8-4f2ebf1a441a"
      },
      "execution_count": null,
      "outputs": [
        {
          "output_type": "display_data",
          "data": {
            "text/plain": [
              "<Figure size 432x288 with 1 Axes>"
            ],
            "image/png": "[encoded data removed]"
          },
          "metadata": {
            "needs_background": "light"
          }
        },
        {
          "output_type": "display_data",
          "data": {
            "text/plain": [
              "<Figure size 432x288 with 1 Axes>"
            ],
            "image/png": "[encoded data removed]"
          },
          "metadata": {
            "needs_background": "light"
          }
        }
      ]
    },
    {
      "cell_type": "code",
      "source": [
        "## Creating our efficent net model\n",
        "\n",
        "efficent_net = create_model(efficent_net_url)"
      ],
      "metadata": {
        "id": "wroMElIy-h-L"
      },
      "execution_count": null,
      "outputs": []
    },
    {
      "cell_type": "code",
      "source": [
        "efficent_net.compile(loss=tf.keras.losses.CategoricalCrossentropy(),\n",
        "                     optimizer=tf.keras.optimizers.Adam(),\n",
        "                     metrics=['accuracy'])\n"
      ],
      "metadata": {
        "id": "ZvbO-ikS-9lA"
      },
      "execution_count": null,
      "outputs": []
    },
    {
      "cell_type": "code",
      "source": [
        "efficent_net_history=efficent_net.fit(train_data_10_percent,\n",
        "                 epochs=15,\n",
        "                 steps_per_epoch=len(train_data_10_percent),\n",
        "                 validation_data=test_data_10_percent,\n",
        "                 validation_steps=len(train_data_10_percent),\n",
        "                 callbacks=[create_tensorboard_callback(dir_name='tensorflow_hub',experiment_name='efficent_net')])"
      ],
      "metadata": {
        "colab": {
          "base_uri": "https://localhost:8080/"
        },
        "id": "O7_FjGLb_CjI",
        "outputId": "6b79ab55-e7d1-4acf-8522-bce0eba4bc10"
      },
      "execution_count": null,
      "outputs": [
        {
          "output_type": "stream",
          "name": "stdout",
          "text": [
            "Saving Tensorboard to log dir : tensorflow_hub/efficent_net/20220711-050714\n",
            "Epoch 1/15\n",
            "375/375 [==============================] - 15s 30ms/step - loss: 1.1456 - accuracy: 0.6560 - val_loss: 0.6356 - val_accuracy: 0.8067\n",
            "Epoch 2/15\n",
            "375/375 [==============================] - 11s 29ms/step - loss: 0.4771 - accuracy: 0.8787 - val_loss: 0.4743 - val_accuracy: 0.8693\n",
            "Epoch 3/15\n",
            "375/375 [==============================] - 11s 29ms/step - loss: 0.3058 - accuracy: 0.9293 - val_loss: 0.4305 - val_accuracy: 0.8693\n",
            "Epoch 4/15\n",
            "375/375 [==============================] - 11s 29ms/step - loss: 0.2052 - accuracy: 0.9627 - val_loss: 0.4186 - val_accuracy: 0.8680\n",
            "Epoch 5/15\n",
            "375/375 [==============================] - 11s 29ms/step - loss: 0.1467 - accuracy: 0.9800 - val_loss: 0.4030 - val_accuracy: 0.8547\n",
            "Epoch 6/15\n",
            "375/375 [==============================] - 11s 29ms/step - loss: 0.1061 - accuracy: 0.9893 - val_loss: 0.4221 - val_accuracy: 0.8627\n",
            "Epoch 7/15\n",
            "375/375 [==============================] - 11s 29ms/step - loss: 0.0812 - accuracy: 0.9973 - val_loss: 0.4171 - val_accuracy: 0.8733\n",
            "Epoch 8/15\n",
            "375/375 [==============================] - 11s 30ms/step - loss: 0.0618 - accuracy: 1.0000 - val_loss: 0.3836 - val_accuracy: 0.8747\n",
            "Epoch 9/15\n",
            "375/375 [==============================] - 11s 30ms/step - loss: 0.0478 - accuracy: 1.0000 - val_loss: 0.3560 - val_accuracy: 0.8880\n",
            "Epoch 10/15\n",
            "375/375 [==============================] - 11s 30ms/step - loss: 0.0378 - accuracy: 1.0000 - val_loss: 0.3316 - val_accuracy: 0.8867\n",
            "Epoch 11/15\n",
            "375/375 [==============================] - 11s 30ms/step - loss: 0.0307 - accuracy: 1.0000 - val_loss: 0.3709 - val_accuracy: 0.8787\n",
            "Epoch 12/15\n",
            "375/375 [==============================] - 11s 29ms/step - loss: 0.0245 - accuracy: 1.0000 - val_loss: 0.4676 - val_accuracy: 0.8480\n",
            "Epoch 13/15\n",
            "375/375 [==============================] - 11s 29ms/step - loss: 0.0208 - accuracy: 1.0000 - val_loss: 0.3749 - val_accuracy: 0.8787\n",
            "Epoch 14/15\n",
            "375/375 [==============================] - 12s 33ms/step - loss: 0.0166 - accuracy: 1.0000 - val_loss: 0.4144 - val_accuracy: 0.8747\n",
            "Epoch 15/15\n",
            "375/375 [==============================] - 16s 43ms/step - loss: 0.0139 - accuracy: 1.0000 - val_loss: 0.3893 - val_accuracy: 0.8653\n"
          ]
        }
      ]
    },
    {
      "cell_type": "code",
      "source": [
        "plot_loss_curves(efficent_net_history)"
      ],
      "metadata": {
        "colab": {
          "base_uri": "https://localhost:8080/",
          "height": 517
        },
        "id": "A5RSrVDJ_EY2",
        "outputId": "19662d5c-2e0d-4c1f-cb06-57f89c9bfebe"
      },
      "execution_count": null,
      "outputs": [
        {
          "output_type": "display_data",
          "data": {
            "text/plain": [
              "<Figure size 432x288 with 1 Axes>"
            ],
            "image/png": "[encoded data removed]"
          },
          "metadata": {
            "needs_background": "light"
          }
        },
        {
          "output_type": "display_data",
          "data": {
            "text/plain": [
              "<Figure size 432x288 with 1 Axes>"
            ],
            "image/png": "[encoded data removed]"
          },
          "metadata": {
            "needs_background": "light"
          }
        }
      ]
    },
    {
      "cell_type": "code",
      "source": [
        "resnet_model.summary()"
      ],
      "metadata": {
        "id": "pU2bofRiARGH",
        "colab": {
          "base_uri": "https://localhost:8080/"
        },
        "outputId": "1bf831d8-e4f7-4490-faa1-6163baa0e05c"
      },
      "execution_count": null,
      "outputs": [
        {
          "output_type": "stream",
          "name": "stdout",
          "text": [
            "Model: \"sequential\"\n",
            "_________________________________________________________________\n",
            " Layer (type)                Output Shape              Param #   \n",
            "=================================================================\n",
            " feature_extraction_layer (K  (None, 1001)             25615849  \n",
            " erasLayer)                                                      \n",
            "                                                                 \n",
            " output_layer (Dense)        (None, 10)                10020     \n",
            "                                                                 \n",
            "=================================================================\n",
            "Total params: 25,625,869\n",
            "Trainable params: 10,020\n",
            "Non-trainable params: 25,615,849\n",
            "_________________________________________________________________\n"
          ]
        }
      ]
    },
    {
      "cell_type": "code",
      "source": [
        "efficent_net.summary()"
      ],
      "metadata": {
        "colab": {
          "base_uri": "https://localhost:8080/"
        },
        "id": "VAvxybVnceXG",
        "outputId": "cf870079-03cc-4b76-c4a1-f731ccbac8b2"
      },
      "execution_count": null,
      "outputs": [
        {
          "output_type": "stream",
          "name": "stdout",
          "text": [
            "Model: \"sequential_1\"\n",
            "_________________________________________________________________\n",
            " Layer (type)                Output Shape              Param #   \n",
            "=================================================================\n",
            " feature_extraction_layer (K  (None, 1280)             4049564   \n",
            " erasLayer)                                                      \n",
            "                                                                 \n",
            " output_layer (Dense)        (None, 10)                12810     \n",
            "                                                                 \n",
            "=================================================================\n",
            "Total params: 4,062,374\n",
            "Trainable params: 12,810\n",
            "Non-trainable params: 4,049,564\n",
            "_________________________________________________________________\n"
          ]
        }
      ]
    },
    {
      "cell_type": "code",
      "source": [
        ""
      ],
      "metadata": {
        "id": "rxVTxRzXcht1"
      },
      "execution_count": null,
      "outputs": []
    }
  ]
}